{
 "cells": [
  {
   "cell_type": "markdown",
   "metadata": {},
   "source": [
    "<div style=\"border: 1px solid thistle; padding: 5px 20px 10px 20px;\">\n",
    "    <h2><font color = \"77658f\" style=\";\"> Feedback </font></h2><br>\n",
    "    <font color = \"77658f\"> <br>Project Organisation - Project is poorly organized with large blocks of code placed in the code cell without appropriate outputs/comments. Most of the code do not help to answer the prompts in the notebook. <br> Clarity of Message - Problem statement should be included in the notebook. There is generally no markdowns provided for the various sections, EDA and data cleaning, Visualizations, Analysis and Conclusions. <br> Python Syntax and Control Flow - Functions were completed in the code challenge. However, the prompts in the notebooks were largely not answered.  <br> Data Cleaning and EDA - There are no evidence of EDA being performed. There was no check for missing values, no printing of first few rows of data frames, no boolean filtering and masking being performed. <br>  Visualisations - Requested visualizations are not displayed and interpreted <br>Research and Conceptual Understanding - Do include the outside research findings and references here as well.  <br> Presentation - Need to format visualization slides and include points that you want to bring across in the slides. <br><br>\n",
    "        <h2>Scores</h2> <br>\n",
    "        • Project Organisation: <b>0</b> <br>\n",
    "        • Clarity of Message: <b>0</b> <br>\n",
    "        • Python Syntax and Control Flow: <b>1</b><br>\n",
    "        • Data Cleaning and EDA: <b>0</b><br>\n",
    "        • Visualisations: <b>0</b><br>\n",
    "        • Research and Conceptual Understanding: <b>1</b><br> \n",
    "        • Presentation: <b>1</b><br>\n",
    "    </font>\n",
    "</div>"
   ]
  },
  {
   "cell_type": "markdown",
   "metadata": {},
   "source": [
    "> <font size = 3 color = \"crimson\"> <h2>What needs to be done for Project 1 Rework?</h2><br><br> 1. Ensure that  questions in all the sections are answered. Markdown cells should be used for writing your problem statement, outside research, recommendations and conclusion and whenever there are significant analysis and findings.<br><br>\n",
    "2. Do not include your code for webscraping. You can read in the scraped data and work with it directly.<br><br>\n",
    "3. Data Import and Cleaning. Answer the prompts in this section and use as many code cells and markdown cells necessary. Outputs need to be shown, for example, you need to run df.head() to show the top rows of your dataframe, display output for isnull().sum() to show the number of null values in your dataframe columns.<br><br>\n",
    "4. Exploratory Data Analysis. Answer all the prompts and show your outputs. Complete the dictionary comprehension required. Investigating trends, you are required to use sorting and masking to answer the questions. <br><br>\n",
    "5. Visualizations. Need to plot and display all the required visuals heatmap, histograms, boxplots, scatterplots, in matplotlib/seaborn. All visuals need to be interpreted.<br><br>\n",
    "6. Conclusion and Recommendations. This needs to be supported by your earlier work or outside research.  </font>"
   ]
  },
  {
   "cell_type": "markdown",
   "metadata": {},
   "source": [
    "<img src=\"http://imgur.com/1ZcRyrc.png\" style=\"float: left; margin: 20px; height: 55px\">\n",
    "\n",
    "# Project 1: Standardized Test Analysis"
   ]
  },
  {
   "cell_type": "markdown",
   "metadata": {},
   "source": [
    "--- \n",
    "# Part 1\n",
    "\n",
    "Part 1 requires knowledge of basic Python.\n",
    "\n",
    "---"
   ]
  },
  {
   "cell_type": "markdown",
   "metadata": {},
   "source": [
    "## Problem Statement (DONE)"
   ]
  },
  {
   "cell_type": "markdown",
   "metadata": {},
   "source": [
    "Decide on your problem statement that will guide your analysis for this project. For guidelines, sample prompts, or inspiration, check out the README.\n",
    "\n",
    "**To-Do:** *Replace this cell with your problem statement.*"
   ]
  },
  {
   "cell_type": "markdown",
   "metadata": {},
   "source": [
    "Amidst the covid-19 pandemic in 2019, many U.S. colleges started to implement test-optional admission process. The decision to exempt sat/act test results by some U.S. colleges has received supports and critics alike, with supporters commenting that this implementation will level the playing field for minorities and encourage performance in school for students, and critics arguing the inverse against the implementation. As the educational landscape progresses through the pandemic, some colleges have made the exemption of test results permanent, and many more are deciding to do the same. As the US ministry of Eduation, the problem statement seek to evaluate claims from both critics and supporters in order to advice deciding colleges if they should continue the exemption of SAT/ACT for the long run."
   ]
  },
  {
   "cell_type": "markdown",
   "metadata": {},
   "source": [
    "### Contents:\n",
    "- [Background](#Background)\n",
    "- [Data Import & Cleaning](#Data-Import-and-Cleaning)\n",
    "- [Exploratory Data Analysis](#Exploratory-Data-Analysis)\n",
    "- [Data Visualization](#Visualize-the-Data)\n",
    "- [Conclusions and Recommendations](#Conclusions-and-Recommendations)"
   ]
  },
  {
   "cell_type": "markdown",
   "metadata": {},
   "source": [
    "## Background"
   ]
  },
  {
   "cell_type": "markdown",
   "metadata": {},
   "source": [
    "In 2019 The pandemic reportedly hurt students’ test results, resulting in a drastic drop in submission of test results. 2 Ivy League Schools exempted test results for admission. In 2020, More renowned colleges exempted test results from admission process, resulting in many more liberal colleges to follow suit. In 2021, Majority of the US Colleges exempted test results from admission process; Some decided for the implementation to be permanent. This attracted supports and criticism alike.\n",
    "\n",
    "\n",
    "\n"
   ]
  },
  {
   "cell_type": "markdown",
   "metadata": {},
   "source": [
    "### Choose your Data (DONE)\n",
    "\n",
    "There are 10 datasets included in the [`data`](./data/) folder for this project. You are required to pick **at least two** of these to complete your analysis. Feel free to use more than two if you would like, or add other relevant datasets you find online."
   ]
  },
  {
   "cell_type": "markdown",
   "metadata": {},
   "source": [
    "<font size = 3 color = \"navy\">The following data are used to find trends in graudation rates and retention rates from 2013 to 2021, and to conduct correlation coefficient between test results and grudation rate, and between test results and retention rates:\n",
    "* [`sat_act_by_college.csv`](./data/sat_act_by_college.csv): Ranges of Accepted ACT & SAT Student Scores by Colleges((https://collegereadiness.collegeboard.org/sat)) \n",
    "* [`MERGED2013_14_PP.csv`](./data/sat_act_by_college.csv): Merged college dataset from 2013 to 2014 (https://collegescorecard.ed.gov/data)\n",
    "* [`MERGED2014_15_PP.csv`](./data/sat_act_by_college.csv): Merged college dataset from 2014 to 2015(https://collegescorecard.ed.gov/data)\n",
    "* [`MERGED2015_16_PP.csv`](./data/sat_act_by_college.csv): Merged college dataset from 2015 to 2016(https://collegescorecard.ed.gov/data)\n",
    "* [`MERGED2017_18_PP.csv`](./data/sat_act_by_college.csv): Merged college dataset from 2016 to 2017(https://collegescorecard.ed.gov/data)\n",
    "* [`MERGED2018_19_PP.csv`](./data/sat_act_by_college.csv): Merged college dataset from 2017 to 2018(https://collegescorecard.ed.gov/data)\n",
    "* [`MERGED2019_20_PP.csv`](./data/sat_act_by_college.csv): Merged college dataset from 2018 to 2019(https://collegescorecard.ed.gov/data)\n",
    "* [`MERGED2020_21_PP.csv`](./data/sat_act_by_college.csv): Merged college dataset from 2019 to 2020(https://collegescorecard.ed.gov/data)\n",
    "* [`data_scraping_us_uni.csv`](./data/sat_act_by_college.csv): Data on SAT/ graduation rate(4 years)/Graduation rate(5yrs)/(https://www.collegetransitions.com)\n",
    "\n",
    "<font size = 3 color = \"navy\">The following data are used to compute minority admission rates in 2018-19 to 2019-20:\n",
    "* [`Minority.csv`](./data/sat_act_by_college.csv): Minority intake rate from 2018 to 2019 (https://nces.ed.gov/)\n",
    "\n",
    "<font size = 3 color = \"navy\">The following data are used to compare test result submittion rates from 2018-19 and 2019-20\n",
    "* [`sat_act_submitted.csv`](./data/sat_act_by_college.csv): sat/act submission rate 2019 vs 2020 part 1 (https://www.insidehighered.com)\n",
    "* [`sat_act_submitted2.csv`](./data/sat_act_by_college.csv): sat/act submission rate 2019 vs 2020 part 2(https://www.insidehighered.com)\n",
    "\n",
    "<font size = 3 color = \"navy\">The following data are used to compute the correlation between college gpa nad high school gpa, and between college gpa and sat test results\n",
    "* [`gpa_sat.csv`](./data/sat_act_by_college.csv): College gpa and respestive highschool gpa and test results (https://nces.ed.gov/)\n",
    "\n",
    "\n",
    "\n"
   ]
  },
  {
   "cell_type": "markdown",
   "metadata": {},
   "source": [
    "### Outside Research (DONE)"
   ]
  },
  {
   "cell_type": "markdown",
   "metadata": {},
   "source": [
    "Based on your problem statement and your chosen datasets, spend some time doing outside research on state policies or additional information that might be relevant. Summarize your findings below. If you bring in any outside tables or charts, make sure you are explicit about having borrowed them. If you quote any text, make sure that it renders as being quoted. **Make sure that you cite your sources.**"
   ]
  },
  {
   "cell_type": "markdown",
   "metadata": {},
   "source": [
    "1) More than 75% of US colleges exempted test results admist the pandemic. (https://www.uopeople.edu/)\n",
    "\n",
    "2) Many colleges are looking to extend, or make permanent, their exemption of test results in favour of allegedly increase in retention rates and graduation rate due to the exemption. (https://www.forbes.com/) \n",
    "\n",
    "3) Act/Sat test results are argued by supporters of the test exemption to be systematically unfair to the minorities and under privileged. They argued that the test results execabates diversity in colleges because majority of students that did well on the test are white Americans. (https://www.nytimes.com/)\n",
    "\n",
    "4) Critics of the exemption argued that SAT helps level the player field for minorities and the underprivileged because it ensures that even low-income family who couldn't afford to high schools education can sit for and submit their test results for college admission.(https://www.washingtonpost.com/)\n"
   ]
  },
  {
   "cell_type": "markdown",
   "metadata": {},
   "source": [
    "### Coding Challenges\n",
    "\n",
    "1. Manually calculate mean:\n",
    "\n",
    "    Write a function that takes in values and returns the mean of the values. Create a list of numbers that you test on your function to check to make sure your function works!\n",
    "    \n",
    "    *Note*: Do not use any mean methods built-in to any Python libraries to do this! This should be done without importing any additional libraries."
   ]
  },
  {
   "cell_type": "code",
   "execution_count": 9,
   "metadata": {},
   "outputs": [
    {
     "name": "stdout",
     "output_type": "stream",
     "text": [
      "12.0\n"
     ]
    }
   ],
   "source": [
    "# Code: \n",
    "def Average(num):\n",
    "    n = 0\n",
    "    for i in num:\n",
    "        n = n + i\n",
    "        \n",
    "    Avr = n/len(num)\n",
    "    return Avr\n",
    "\n",
    "print (Average([10, 11, 12, 13, 14]))\n",
    "        \n",
    "    "
   ]
  },
  {
   "cell_type": "markdown",
   "metadata": {},
   "source": [
    "2. Manually calculate standard deviation:\n",
    "\n",
    "    The formula for standard deviation is below:\n",
    "\n",
    "    $$\\sigma = \\sqrt{\\frac{1}{n}\\sum_{i=1}^n(x_i - \\mu)^2}$$\n",
    "\n",
    "    Where $x_i$ represents each value in the dataset, $\\mu$ represents the mean of all values in the dataset and $n$ represents the number of values in the dataset.\n",
    "\n",
    "    Write a function that takes in values and returns the standard deviation of the values using the formula above. Hint: use the function you wrote above to calculate the mean! Use the list of numbers you created above to test on your function.\n",
    "    \n",
    "    *Note*: Do not use any standard deviation methods built-in to any Python libraries to do this! This should be done without importing any additional libraries."
   ]
  },
  {
   "cell_type": "code",
   "execution_count": 92,
   "metadata": {},
   "outputs": [
    {
     "name": "stdout",
     "output_type": "stream",
     "text": [
      "1.4142135623730951\n"
     ]
    }
   ],
   "source": [
    "# Code:\n",
    "def SD(data, ddof=0):\n",
    "     n = len(data)\n",
    "     mean = sum(data) / n\n",
    "     Variance = sum((x - mean) ** 2 for x in data) / (n - ddof)\n",
    "     return (Variance ** 0.5)\n",
    "\n",
    "\n",
    "\n",
    "print(SD([11, 12, 13, 14, 15]))"
   ]
  },
  {
   "cell_type": "markdown",
   "metadata": {},
   "source": [
    "3. Data cleaning function:\n",
    "    \n",
    "    Write a function that takes in a string that is a number and a percent symbol (ex. '50%', '30.5%', etc.) and converts this to a float that is the decimal approximation of the percent. For example, inputting '50%' in your function should return 0.5, '30.5%' should return 0.305, etc. Make sure to test your function to make sure it works!\n",
    "\n",
    "You will use these functions later on in the project!"
   ]
  },
  {
   "cell_type": "code",
   "execution_count": 5,
   "metadata": {},
   "outputs": [
    {
     "name": "stdout",
     "output_type": "stream",
     "text": [
      "0.01\n"
     ]
    }
   ],
   "source": [
    "# Code:\n",
    "def percent2float(num):\n",
    "    x = float(num.strip('%'))/100\n",
    "    return x\n",
    "\n",
    "print (percent2float('1%'))\n",
    "    "
   ]
  },
  {
   "cell_type": "markdown",
   "metadata": {},
   "source": [
    "--- \n",
    "# Part 2\n",
    "\n",
    "Part 2 requires knowledge of Pandas, EDA, data cleaning, and data visualization.\n",
    "\n",
    "---"
   ]
  },
  {
   "cell_type": "markdown",
   "metadata": {},
   "source": [
    "*All libraries used should be added here*"
   ]
  },
  {
   "cell_type": "code",
   "execution_count": 101,
   "metadata": {},
   "outputs": [],
   "source": [
    "# Imports:\n",
    "import pandas as pd\n",
    "import numpy as np\n",
    "import seaborn as sns\n",
    "import matplotlib.pylab as plt"
   ]
  },
  {
   "cell_type": "markdown",
   "metadata": {},
   "source": [
    "## Data Import and Cleaning (DONE)"
   ]
  },
  {
   "cell_type": "markdown",
   "metadata": {},
   "source": [
    "### Data Import & Cleaning (DONE)\n",
    "\n",
    "Import the datasets that you selected for this project and go through the following steps at a minimum. You are welcome to do further cleaning as you feel necessary:\n",
    "1. Display the data: print the first 5 rows of each dataframe to your Jupyter notebook. (done)\n",
    "2. Check for missing values. (done)\n",
    "3. Check for any obvious issues with the observations (keep in mind the minimum & maximum possible values for each test/subtest). (done)\n",
    "4. Fix any errors you identified in steps 2-3. (done)\n",
    "5. Display the data types of each feature. (done)\n",
    "6. Fix any incorrect data types found in step 5. (done)\n",
    "    - Fix any individual values preventing other columns from being the appropriate type.\n",
    "    - If your dataset has a column of percents (ex. '50%', '30.5%', etc.), use the function you wrote in Part 1 (coding challenges, number 3) to convert this to floats! *Hint*: use `.map()` or `.apply()`. \n",
    "7. Rename Columns. (done)\n",
    "    - Column names should be all lowercase.\n",
    "    - Column names should not contain spaces (underscores will suffice--this allows for using the `df.column_name` method to access columns in addition to `df['column_name']`).\n",
    "    - Column names should be unique and informative.\n",
    "8. Drop unnecessary rows (if needed). (done)\n",
    "9. Merge dataframes that can be merged.(done)\n",
    "10. Perform any additional cleaning that you feel is necessary. (done)\n",
    "11. Save your cleaned and merged dataframes as csv files.(done)"
   ]
  },
  {
   "cell_type": "markdown",
   "metadata": {},
   "source": [
    "> <font size = 3 color = \"crimson\"> Include your code to scrape data in another notebook. You can directly use .read_csv() to read in the data that you have scraped for the project. <br><br> Working on a jupyter notebbook allows you to display your outputs for each cell. It is necessary to follow the instructions and display the relevant outputs so that your working can be displayed and assessed objectively. You should include markdown cells to answer the above questions when there is a need for more thorough discussion. Hence, please work on each of the points above and show us the relevant output, for example, print out the 5 rows of each dataframe, identify what the errors are if any and show us the evidence that the errors are fixed, display the data types for each column..., ... <br><br> If the questions are not addressed and findings not communicated effectively, then this project would fall short of requirements to pass.  </font>"
   ]
  },
  {
   "cell_type": "code",
   "execution_count": 4,
   "metadata": {},
   "outputs": [
    {
     "data": {
      "text/html": [
       "<div>\n",
       "<style scoped>\n",
       "    .dataframe tbody tr th:only-of-type {\n",
       "        vertical-align: middle;\n",
       "    }\n",
       "\n",
       "    .dataframe tbody tr th {\n",
       "        vertical-align: top;\n",
       "    }\n",
       "\n",
       "    .dataframe thead th {\n",
       "        text-align: right;\n",
       "    }\n",
       "</style>\n",
       "<table border=\"1\" class=\"dataframe\">\n",
       "  <thead>\n",
       "    <tr style=\"text-align: right;\">\n",
       "      <th></th>\n",
       "      <th>institutions</th>\n",
       "      <th>Freshman_rentention_rates</th>\n",
       "      <th>Gradution_rates_4_years</th>\n",
       "      <th>Graduation_rates_5_years</th>\n",
       "    </tr>\n",
       "  </thead>\n",
       "  <tbody>\n",
       "    <tr>\n",
       "      <th>0</th>\n",
       "      <td>Adelphi University</td>\n",
       "      <td>80%</td>\n",
       "      <td>62%</td>\n",
       "      <td>71%</td>\n",
       "    </tr>\n",
       "    <tr>\n",
       "      <th>1</th>\n",
       "      <td>Agnes Scott College</td>\n",
       "      <td>84%</td>\n",
       "      <td>68%</td>\n",
       "      <td>72%</td>\n",
       "    </tr>\n",
       "    <tr>\n",
       "      <th>2</th>\n",
       "      <td>Albion College</td>\n",
       "      <td>77%</td>\n",
       "      <td>58%</td>\n",
       "      <td>66%</td>\n",
       "    </tr>\n",
       "    <tr>\n",
       "      <th>3</th>\n",
       "      <td>Alfred University</td>\n",
       "      <td>70%</td>\n",
       "      <td>46%</td>\n",
       "      <td>59%</td>\n",
       "    </tr>\n",
       "    <tr>\n",
       "      <th>4</th>\n",
       "      <td>Allegheny College</td>\n",
       "      <td>83%</td>\n",
       "      <td>68%</td>\n",
       "      <td>72%</td>\n",
       "    </tr>\n",
       "  </tbody>\n",
       "</table>\n",
       "</div>"
      ],
      "text/plain": [
       "          institutions  Freshman_rentention_rates  Gradution_rates_4_years  \\\n",
       "0   Adelphi University                        80%                      62%   \n",
       "1  Agnes Scott College                        84%                      68%   \n",
       "2       Albion College                        77%                      58%   \n",
       "3    Alfred University                        70%                      46%   \n",
       "4    Allegheny College                        83%                      68%   \n",
       "\n",
       "  Graduation_rates_5_years   \n",
       "0                       71%  \n",
       "1                       72%  \n",
       "2                       66%  \n",
       "3                       59%  \n",
       "4                       72%  "
      ]
     },
     "execution_count": 4,
     "metadata": {},
     "output_type": "execute_result"
    }
   ],
   "source": [
    "#reading and preparing data_scraping_us_uni.csv\n",
    "df2021 = pd.read_csv('data_scraping_us_uni.csv')\n",
    "df2021.head()"
   ]
  },
  {
   "cell_type": "code",
   "execution_count": 5,
   "metadata": {},
   "outputs": [
    {
     "name": "stdout",
     "output_type": "stream",
     "text": [
      "<class 'pandas.core.frame.DataFrame'>\n",
      "RangeIndex: 483 entries, 0 to 482\n",
      "Data columns (total 4 columns):\n",
      " #   Column                      Non-Null Count  Dtype \n",
      "---  ------                      --------------  ----- \n",
      " 0   institutions                483 non-null    object\n",
      " 1    Freshman_rentention_rates  483 non-null    object\n",
      " 2    Gradution_rates_4_years    477 non-null    object\n",
      " 3   Graduation_rates_5_years    477 non-null    object\n",
      "dtypes: object(4)\n",
      "memory usage: 15.2+ KB\n"
     ]
    }
   ],
   "source": [
    "df2021.info(verbose = True)"
   ]
  },
  {
   "cell_type": "code",
   "execution_count": 6,
   "metadata": {},
   "outputs": [
    {
     "data": {
      "text/html": [
       "<div>\n",
       "<style scoped>\n",
       "    .dataframe tbody tr th:only-of-type {\n",
       "        vertical-align: middle;\n",
       "    }\n",
       "\n",
       "    .dataframe tbody tr th {\n",
       "        vertical-align: top;\n",
       "    }\n",
       "\n",
       "    .dataframe thead th {\n",
       "        text-align: right;\n",
       "    }\n",
       "</style>\n",
       "<table border=\"1\" class=\"dataframe\">\n",
       "  <thead>\n",
       "    <tr style=\"text-align: right;\">\n",
       "      <th></th>\n",
       "      <th>institutions</th>\n",
       "      <th>Freshman_rentention_rates</th>\n",
       "      <th>Gradution_rates_4_years</th>\n",
       "      <th>Graduation_rates_5_years</th>\n",
       "    </tr>\n",
       "  </thead>\n",
       "  <tbody>\n",
       "    <tr>\n",
       "      <th>count</th>\n",
       "      <td>483</td>\n",
       "      <td>483</td>\n",
       "      <td>477</td>\n",
       "      <td>477</td>\n",
       "    </tr>\n",
       "    <tr>\n",
       "      <th>unique</th>\n",
       "      <td>483</td>\n",
       "      <td>33</td>\n",
       "      <td>75</td>\n",
       "      <td>58</td>\n",
       "    </tr>\n",
       "    <tr>\n",
       "      <th>top</th>\n",
       "      <td>Adelphi University</td>\n",
       "      <td>90%</td>\n",
       "      <td>69%</td>\n",
       "      <td>82%</td>\n",
       "    </tr>\n",
       "    <tr>\n",
       "      <th>freq</th>\n",
       "      <td>1</td>\n",
       "      <td>33</td>\n",
       "      <td>16</td>\n",
       "      <td>17</td>\n",
       "    </tr>\n",
       "  </tbody>\n",
       "</table>\n",
       "</div>"
      ],
      "text/plain": [
       "              institutions  Freshman_rentention_rates  \\\n",
       "count                  483                        483   \n",
       "unique                 483                         33   \n",
       "top     Adelphi University                        90%   \n",
       "freq                     1                         33   \n",
       "\n",
       "        Gradution_rates_4_years Graduation_rates_5_years   \n",
       "count                       477                       477  \n",
       "unique                       75                        58  \n",
       "top                         69%                       82%  \n",
       "freq                         16                        17  "
      ]
     },
     "execution_count": 6,
     "metadata": {},
     "output_type": "execute_result"
    }
   ],
   "source": [
    "#checking for obvious mistakes in dataframe\n",
    "df2021.describe(include = \"all\")"
   ]
  },
  {
   "cell_type": "code",
   "execution_count": 7,
   "metadata": {},
   "outputs": [
    {
     "data": {
      "text/html": [
       "<div>\n",
       "<style scoped>\n",
       "    .dataframe tbody tr th:only-of-type {\n",
       "        vertical-align: middle;\n",
       "    }\n",
       "\n",
       "    .dataframe tbody tr th {\n",
       "        vertical-align: top;\n",
       "    }\n",
       "\n",
       "    .dataframe thead th {\n",
       "        text-align: right;\n",
       "    }\n",
       "</style>\n",
       "<table border=\"1\" class=\"dataframe\">\n",
       "  <thead>\n",
       "    <tr style=\"text-align: right;\">\n",
       "      <th></th>\n",
       "      <th>institutions</th>\n",
       "      <th>freshmanretentionrate</th>\n",
       "      <th>graduationrate4years</th>\n",
       "      <th>graduationrate5year</th>\n",
       "    </tr>\n",
       "  </thead>\n",
       "  <tbody>\n",
       "    <tr>\n",
       "      <th>0</th>\n",
       "      <td>Adelphi University</td>\n",
       "      <td>80%</td>\n",
       "      <td>62%</td>\n",
       "      <td>71%</td>\n",
       "    </tr>\n",
       "    <tr>\n",
       "      <th>1</th>\n",
       "      <td>Agnes Scott College</td>\n",
       "      <td>84%</td>\n",
       "      <td>68%</td>\n",
       "      <td>72%</td>\n",
       "    </tr>\n",
       "    <tr>\n",
       "      <th>2</th>\n",
       "      <td>Albion College</td>\n",
       "      <td>77%</td>\n",
       "      <td>58%</td>\n",
       "      <td>66%</td>\n",
       "    </tr>\n",
       "    <tr>\n",
       "      <th>3</th>\n",
       "      <td>Alfred University</td>\n",
       "      <td>70%</td>\n",
       "      <td>46%</td>\n",
       "      <td>59%</td>\n",
       "    </tr>\n",
       "    <tr>\n",
       "      <th>4</th>\n",
       "      <td>Allegheny College</td>\n",
       "      <td>83%</td>\n",
       "      <td>68%</td>\n",
       "      <td>72%</td>\n",
       "    </tr>\n",
       "  </tbody>\n",
       "</table>\n",
       "</div>"
      ],
      "text/plain": [
       "          institutions freshmanretentionrate graduationrate4years  \\\n",
       "0   Adelphi University                   80%                  62%   \n",
       "1  Agnes Scott College                   84%                  68%   \n",
       "2       Albion College                   77%                  58%   \n",
       "3    Alfred University                   70%                  46%   \n",
       "4    Allegheny College                   83%                  68%   \n",
       "\n",
       "  graduationrate5year  \n",
       "0                 71%  \n",
       "1                 72%  \n",
       "2                 66%  \n",
       "3                 59%  \n",
       "4                 72%  "
      ]
     },
     "execution_count": 7,
     "metadata": {},
     "output_type": "execute_result"
    }
   ],
   "source": [
    "#removing space and \"_\" in columns names and changing column name to lower case\n",
    "df2021.columns = 'institutions', 'freshmanretentionrate', 'graduationrate4years', 'graduationrate5year'\n",
    "df2021.head()"
   ]
  },
  {
   "cell_type": "code",
   "execution_count": 8,
   "metadata": {},
   "outputs": [
    {
     "data": {
      "text/html": [
       "<div>\n",
       "<style scoped>\n",
       "    .dataframe tbody tr th:only-of-type {\n",
       "        vertical-align: middle;\n",
       "    }\n",
       "\n",
       "    .dataframe tbody tr th {\n",
       "        vertical-align: top;\n",
       "    }\n",
       "\n",
       "    .dataframe thead th {\n",
       "        text-align: right;\n",
       "    }\n",
       "</style>\n",
       "<table border=\"1\" class=\"dataframe\">\n",
       "  <thead>\n",
       "    <tr style=\"text-align: right;\">\n",
       "      <th></th>\n",
       "      <th>institutions</th>\n",
       "      <th>freshmanretentionrate</th>\n",
       "      <th>graduationrate4years</th>\n",
       "      <th>graduationrate5year</th>\n",
       "    </tr>\n",
       "  </thead>\n",
       "  <tbody>\n",
       "    <tr>\n",
       "      <th>0</th>\n",
       "      <td>Adelphi University</td>\n",
       "      <td>0.80</td>\n",
       "      <td>0.62</td>\n",
       "      <td>0.71</td>\n",
       "    </tr>\n",
       "    <tr>\n",
       "      <th>1</th>\n",
       "      <td>Agnes Scott College</td>\n",
       "      <td>0.84</td>\n",
       "      <td>0.68</td>\n",
       "      <td>0.72</td>\n",
       "    </tr>\n",
       "    <tr>\n",
       "      <th>2</th>\n",
       "      <td>Albion College</td>\n",
       "      <td>0.77</td>\n",
       "      <td>0.58</td>\n",
       "      <td>0.66</td>\n",
       "    </tr>\n",
       "    <tr>\n",
       "      <th>3</th>\n",
       "      <td>Alfred University</td>\n",
       "      <td>0.70</td>\n",
       "      <td>0.46</td>\n",
       "      <td>0.59</td>\n",
       "    </tr>\n",
       "    <tr>\n",
       "      <th>4</th>\n",
       "      <td>Allegheny College</td>\n",
       "      <td>0.83</td>\n",
       "      <td>0.68</td>\n",
       "      <td>0.72</td>\n",
       "    </tr>\n",
       "  </tbody>\n",
       "</table>\n",
       "</div>"
      ],
      "text/plain": [
       "          institutions  freshmanretentionrate  graduationrate4years  \\\n",
       "0   Adelphi University                   0.80                  0.62   \n",
       "1  Agnes Scott College                   0.84                  0.68   \n",
       "2       Albion College                   0.77                  0.58   \n",
       "3    Alfred University                   0.70                  0.46   \n",
       "4    Allegheny College                   0.83                  0.68   \n",
       "\n",
       "   graduationrate5year  \n",
       "0                 0.71  \n",
       "1                 0.72  \n",
       "2                 0.66  \n",
       "3                 0.59  \n",
       "4                 0.72  "
      ]
     },
     "execution_count": 8,
     "metadata": {},
     "output_type": "execute_result"
    }
   ],
   "source": [
    "#Changing percentages to float value\n",
    "df2021 = df2021.astype(str)\n",
    "df2021['freshmanretentionrate'] = df2021['freshmanretentionrate'].str.rstrip('%').astype('float')/100 \n",
    "df2021['graduationrate4years'] = df2021['graduationrate4years'].str.rstrip('%').astype('float')/100 \n",
    "df2021['graduationrate5year'] = df2021['graduationrate5year'].str.rstrip('%').astype('float')/100 \n",
    "df2021.head()"
   ]
  },
  {
   "cell_type": "code",
   "execution_count": 9,
   "metadata": {},
   "outputs": [
    {
     "name": "stdout",
     "output_type": "stream",
     "text": [
      "<class 'pandas.core.frame.DataFrame'>\n",
      "RangeIndex: 483 entries, 0 to 482\n",
      "Data columns (total 4 columns):\n",
      " #   Column                 Non-Null Count  Dtype  \n",
      "---  ------                 --------------  -----  \n",
      " 0   institutions           483 non-null    object \n",
      " 1   freshmanretentionrate  483 non-null    float64\n",
      " 2   graduationrate4years   477 non-null    float64\n",
      " 3   graduationrate5year    477 non-null    float64\n",
      "dtypes: float64(3), object(1)\n",
      "memory usage: 15.2+ KB\n"
     ]
    }
   ],
   "source": [
    "#object(percentages) changed to float for eda\n",
    "df2021.info(verbose = True)"
   ]
  },
  {
   "cell_type": "code",
   "execution_count": 10,
   "metadata": {},
   "outputs": [
    {
     "data": {
      "text/plain": [
       "graduationrate4years    6\n",
       "graduationrate5year     6\n",
       "dtype: int64"
      ]
     },
     "execution_count": 10,
     "metadata": {},
     "output_type": "execute_result"
    }
   ],
   "source": [
    "#checking for missing data\n",
    "df2021_missing_value = df2021.isnull().sum()\n",
    "df2021_missing_value = df2021_missing_value[(df2021_missing_value>0)]  \n",
    "df2021_missing_value"
   ]
  },
  {
   "cell_type": "code",
   "execution_count": 11,
   "metadata": {},
   "outputs": [
    {
     "data": {
      "text/plain": [
       "institutions             0\n",
       "freshmanretentionrate    0\n",
       "graduationrate4years     0\n",
       "graduationrate5year      0\n",
       "dtype: int64"
      ]
     },
     "execution_count": 11,
     "metadata": {},
     "output_type": "execute_result"
    }
   ],
   "source": [
    "#replacing nan values with median\n",
    "df2021[\"freshmanretentionrate\"] = df2021[\"freshmanretentionrate\"].fillna( df2021[\"freshmanretentionrate\"].median())\n",
    "df2021[\"graduationrate4years\"] = df2021[\"graduationrate4years\"].fillna( df2021[\"graduationrate4years\"].median())\n",
    "df2021[\"graduationrate5year\"] = df2021[\"graduationrate5year\"].fillna( df2021[\"graduationrate5year\"].median())\n",
    "\n",
    "df2021.isnull().sum()"
   ]
  },
  {
   "cell_type": "code",
   "execution_count": 24,
   "metadata": {},
   "outputs": [
    {
     "data": {
      "text/html": [
       "<div>\n",
       "<style scoped>\n",
       "    .dataframe tbody tr th:only-of-type {\n",
       "        vertical-align: middle;\n",
       "    }\n",
       "\n",
       "    .dataframe tbody tr th {\n",
       "        vertical-align: top;\n",
       "    }\n",
       "\n",
       "    .dataframe thead th {\n",
       "        text-align: right;\n",
       "    }\n",
       "</style>\n",
       "<table border=\"1\" class=\"dataframe\">\n",
       "  <thead>\n",
       "    <tr style=\"text-align: right;\">\n",
       "      <th></th>\n",
       "      <th>institutions</th>\n",
       "      <th>freshmanretentionrate</th>\n",
       "      <th>graduationrate4years</th>\n",
       "    </tr>\n",
       "  </thead>\n",
       "  <tbody>\n",
       "    <tr>\n",
       "      <th>0</th>\n",
       "      <td>Adelphi University</td>\n",
       "      <td>0.80</td>\n",
       "      <td>0.62</td>\n",
       "    </tr>\n",
       "    <tr>\n",
       "      <th>1</th>\n",
       "      <td>Agnes Scott College</td>\n",
       "      <td>0.84</td>\n",
       "      <td>0.68</td>\n",
       "    </tr>\n",
       "    <tr>\n",
       "      <th>2</th>\n",
       "      <td>Albion College</td>\n",
       "      <td>0.77</td>\n",
       "      <td>0.58</td>\n",
       "    </tr>\n",
       "    <tr>\n",
       "      <th>3</th>\n",
       "      <td>Alfred University</td>\n",
       "      <td>0.70</td>\n",
       "      <td>0.46</td>\n",
       "    </tr>\n",
       "    <tr>\n",
       "      <th>4</th>\n",
       "      <td>Allegheny College</td>\n",
       "      <td>0.83</td>\n",
       "      <td>0.68</td>\n",
       "    </tr>\n",
       "    <tr>\n",
       "      <th>...</th>\n",
       "      <td>...</td>\n",
       "      <td>...</td>\n",
       "      <td>...</td>\n",
       "    </tr>\n",
       "    <tr>\n",
       "      <th>478</th>\n",
       "      <td>Wofford College</td>\n",
       "      <td>0.90</td>\n",
       "      <td>0.76</td>\n",
       "    </tr>\n",
       "    <tr>\n",
       "      <th>479</th>\n",
       "      <td>Worcester Polytechnic Institute</td>\n",
       "      <td>0.95</td>\n",
       "      <td>0.81</td>\n",
       "    </tr>\n",
       "    <tr>\n",
       "      <th>480</th>\n",
       "      <td>Xavier University</td>\n",
       "      <td>0.84</td>\n",
       "      <td>0.61</td>\n",
       "    </tr>\n",
       "    <tr>\n",
       "      <th>481</th>\n",
       "      <td>Yale University</td>\n",
       "      <td>0.90</td>\n",
       "      <td>0.84</td>\n",
       "    </tr>\n",
       "    <tr>\n",
       "      <th>482</th>\n",
       "      <td>Yeshiva University</td>\n",
       "      <td>0.92</td>\n",
       "      <td>0.69</td>\n",
       "    </tr>\n",
       "  </tbody>\n",
       "</table>\n",
       "<p>483 rows × 3 columns</p>\n",
       "</div>"
      ],
      "text/plain": [
       "                        institutions  freshmanretentionrate  \\\n",
       "0                 Adelphi University                   0.80   \n",
       "1                Agnes Scott College                   0.84   \n",
       "2                     Albion College                   0.77   \n",
       "3                  Alfred University                   0.70   \n",
       "4                  Allegheny College                   0.83   \n",
       "..                               ...                    ...   \n",
       "478                  Wofford College                   0.90   \n",
       "479  Worcester Polytechnic Institute                   0.95   \n",
       "480                Xavier University                   0.84   \n",
       "481                  Yale University                   0.90   \n",
       "482               Yeshiva University                   0.92   \n",
       "\n",
       "     graduationrate4years  \n",
       "0                    0.62  \n",
       "1                    0.68  \n",
       "2                    0.58  \n",
       "3                    0.46  \n",
       "4                    0.68  \n",
       "..                    ...  \n",
       "478                  0.76  \n",
       "479                  0.81  \n",
       "480                  0.61  \n",
       "481                  0.84  \n",
       "482                  0.69  \n",
       "\n",
       "[483 rows x 3 columns]"
      ]
     },
     "execution_count": 24,
     "metadata": {},
     "output_type": "execute_result"
    }
   ],
   "source": [
    "#dropping unnecessary column\n",
    "df2021 = df2021.drop(\"graduationrate5year\", axis = 1)\n",
    "df2021"
   ]
  },
  {
   "cell_type": "code",
   "execution_count": 14,
   "metadata": {},
   "outputs": [
    {
     "name": "stderr",
     "output_type": "stream",
     "text": [
      "C:\\Users\\biyin\\anaconda3\\lib\\site-packages\\IPython\\core\\interactiveshell.py:3444: DtypeWarning: Columns (1729,1909,1910,1911,1912,1913) have mixed types.Specify dtype option on import or set low_memory=False.\n",
      "  exec(code_obj, self.user_global_ns, self.user_ns)\n"
     ]
    },
    {
     "data": {
      "text/html": [
       "<div>\n",
       "<style scoped>\n",
       "    .dataframe tbody tr th:only-of-type {\n",
       "        vertical-align: middle;\n",
       "    }\n",
       "\n",
       "    .dataframe tbody tr th {\n",
       "        vertical-align: top;\n",
       "    }\n",
       "\n",
       "    .dataframe thead th {\n",
       "        text-align: right;\n",
       "    }\n",
       "</style>\n",
       "<table border=\"1\" class=\"dataframe\">\n",
       "  <thead>\n",
       "    <tr style=\"text-align: right;\">\n",
       "      <th></th>\n",
       "      <th>institutions</th>\n",
       "      <th>freshman_rentention_rates</th>\n",
       "      <th>gradution_rates_4_years</th>\n",
       "      <th>SAT Average</th>\n",
       "    </tr>\n",
       "  </thead>\n",
       "  <tbody>\n",
       "    <tr>\n",
       "      <th>0</th>\n",
       "      <td>Alabama A &amp; M University</td>\n",
       "      <td>0.2396</td>\n",
       "      <td>0.5879</td>\n",
       "      <td>929.0</td>\n",
       "    </tr>\n",
       "    <tr>\n",
       "      <th>1</th>\n",
       "      <td>University of Alabama at Birmingham</td>\n",
       "      <td>0.5292</td>\n",
       "      <td>0.8436</td>\n",
       "      <td>1195.0</td>\n",
       "    </tr>\n",
       "    <tr>\n",
       "      <th>2</th>\n",
       "      <td>Amridge University</td>\n",
       "      <td>0.1818</td>\n",
       "      <td>NaN</td>\n",
       "      <td>NaN</td>\n",
       "    </tr>\n",
       "    <tr>\n",
       "      <th>3</th>\n",
       "      <td>University of Alabama in Huntsville</td>\n",
       "      <td>0.4862</td>\n",
       "      <td>0.8248</td>\n",
       "      <td>1322.0</td>\n",
       "    </tr>\n",
       "    <tr>\n",
       "      <th>4</th>\n",
       "      <td>Alabama State University</td>\n",
       "      <td>0.2769</td>\n",
       "      <td>0.5923</td>\n",
       "      <td>935.0</td>\n",
       "    </tr>\n",
       "  </tbody>\n",
       "</table>\n",
       "</div>"
      ],
      "text/plain": [
       "                          institutions   freshman_rentention_rates  \\\n",
       "0             Alabama A & M University                      0.2396   \n",
       "1  University of Alabama at Birmingham                      0.5292   \n",
       "2                   Amridge University                      0.1818   \n",
       "3  University of Alabama in Huntsville                      0.4862   \n",
       "4             Alabama State University                      0.2769   \n",
       "\n",
       "    gradution_rates_4_years  SAT Average  \n",
       "0                    0.5879        929.0  \n",
       "1                    0.8436       1195.0  \n",
       "2                       NaN          NaN  \n",
       "3                    0.8248       1322.0  \n",
       "4                    0.5923        935.0  "
      ]
     },
     "execution_count": 14,
     "metadata": {},
     "output_type": "execute_result"
    }
   ],
   "source": [
    "#loading and cleaning MERGED2017_18_PP.csv\n",
    "df2018 = pd.read_csv('MERGED2017_18_PP.csv')\n",
    "df2018 = df2018[[\"INSTNM\", \"C150_4\", \"RET_FT4\", \"SAT_AVG\"]]\n",
    "df2018.columns = [\"institutions\", \" freshman_rentention_rates\", \" gradution_rates_4_years\", \"SAT Average\"]\n",
    "df2018.head()"
   ]
  },
  {
   "cell_type": "code",
   "execution_count": 15,
   "metadata": {},
   "outputs": [
    {
     "data": {
      "text/html": [
       "<div>\n",
       "<style scoped>\n",
       "    .dataframe tbody tr th:only-of-type {\n",
       "        vertical-align: middle;\n",
       "    }\n",
       "\n",
       "    .dataframe tbody tr th {\n",
       "        vertical-align: top;\n",
       "    }\n",
       "\n",
       "    .dataframe thead th {\n",
       "        text-align: right;\n",
       "    }\n",
       "</style>\n",
       "<table border=\"1\" class=\"dataframe\">\n",
       "  <thead>\n",
       "    <tr style=\"text-align: right;\">\n",
       "      <th></th>\n",
       "      <th>institutions</th>\n",
       "      <th>Acceptance Rate</th>\n",
       "      <th>Average GPA</th>\n",
       "      <th>Average GPA  of accepted students</th>\n",
       "    </tr>\n",
       "  </thead>\n",
       "  <tbody>\n",
       "    <tr>\n",
       "      <th>0</th>\n",
       "      <td>Brown University</td>\n",
       "      <td>7.70%</td>\n",
       "      <td>3.63</td>\n",
       "      <td>3.94</td>\n",
       "    </tr>\n",
       "    <tr>\n",
       "      <th>1</th>\n",
       "      <td>Columbia University</td>\n",
       "      <td>5.90%</td>\n",
       "      <td>3.45</td>\n",
       "      <td>3.94</td>\n",
       "    </tr>\n",
       "    <tr>\n",
       "      <th>2</th>\n",
       "      <td>Cornell University</td>\n",
       "      <td>10.90%</td>\n",
       "      <td>3.36</td>\n",
       "      <td>3.90</td>\n",
       "    </tr>\n",
       "    <tr>\n",
       "      <th>3</th>\n",
       "      <td>Dartmouth College</td>\n",
       "      <td>7.90%</td>\n",
       "      <td>3.46</td>\n",
       "      <td>3.90</td>\n",
       "    </tr>\n",
       "    <tr>\n",
       "      <th>4</th>\n",
       "      <td>Duke University</td>\n",
       "      <td>8.90%</td>\n",
       "      <td>3.51</td>\n",
       "      <td>3.94</td>\n",
       "    </tr>\n",
       "  </tbody>\n",
       "</table>\n",
       "</div>"
      ],
      "text/plain": [
       "          institutions Acceptance Rate  Average GPA  \\\n",
       "0     Brown University           7.70%         3.63   \n",
       "1  Columbia University           5.90%         3.45   \n",
       "2   Cornell University          10.90%         3.36   \n",
       "3    Dartmouth College           7.90%         3.46   \n",
       "4      Duke University           8.90%         3.51   \n",
       "\n",
       "   Average GPA  of accepted students  \n",
       "0                               3.94  \n",
       "1                               3.94  \n",
       "2                               3.90  \n",
       "3                               3.90  \n",
       "4                               3.94  "
      ]
     },
     "execution_count": 15,
     "metadata": {},
     "output_type": "execute_result"
    }
   ],
   "source": [
    "#loading gat_sat.csv\n",
    "gpa_sat = pd.read_csv('gpa_sat.csv')\n",
    "gpa_sat.head()"
   ]
  },
  {
   "cell_type": "code",
   "execution_count": 63,
   "metadata": {},
   "outputs": [
    {
     "name": "stderr",
     "output_type": "stream",
     "text": [
      "C:\\Users\\biyin\\AppData\\Local\\Temp/ipykernel_1428/2617011852.py:4: FutureWarning: Dropping of nuisance columns in DataFrame reductions (with 'numeric_only=None') is deprecated; in a future version this will raise TypeError.  Select only valid columns before calling the reduction.\n",
      "  gpa_sat_merged_nonan = gpa_sat_merged.fillna(gpa_sat_merged.median())\n"
     ]
    },
    {
     "data": {
      "text/html": [
       "<div>\n",
       "<style scoped>\n",
       "    .dataframe tbody tr th:only-of-type {\n",
       "        vertical-align: middle;\n",
       "    }\n",
       "\n",
       "    .dataframe tbody tr th {\n",
       "        vertical-align: top;\n",
       "    }\n",
       "\n",
       "    .dataframe thead th {\n",
       "        text-align: right;\n",
       "    }\n",
       "</style>\n",
       "<table border=\"1\" class=\"dataframe\">\n",
       "  <thead>\n",
       "    <tr style=\"text-align: right;\">\n",
       "      <th></th>\n",
       "      <th>institutions</th>\n",
       "      <th>Acceptance Rate</th>\n",
       "      <th>Average GPA</th>\n",
       "      <th>Average GPA  of accepted students</th>\n",
       "      <th>freshmanretentionrate</th>\n",
       "      <th>graduationrate4years</th>\n",
       "      <th>sataverage</th>\n",
       "    </tr>\n",
       "  </thead>\n",
       "  <tbody>\n",
       "    <tr>\n",
       "      <th>0</th>\n",
       "      <td>Brown University</td>\n",
       "      <td>7.70%</td>\n",
       "      <td>3.63</td>\n",
       "      <td>3.94</td>\n",
       "      <td>0.9514</td>\n",
       "      <td>0.9815</td>\n",
       "      <td>1494.0</td>\n",
       "    </tr>\n",
       "    <tr>\n",
       "      <th>1</th>\n",
       "      <td>Cornell University</td>\n",
       "      <td>10.90%</td>\n",
       "      <td>3.36</td>\n",
       "      <td>3.90</td>\n",
       "      <td>0.9339</td>\n",
       "      <td>0.9713</td>\n",
       "      <td>1477.0</td>\n",
       "    </tr>\n",
       "    <tr>\n",
       "      <th>2</th>\n",
       "      <td>Dartmouth College</td>\n",
       "      <td>7.90%</td>\n",
       "      <td>3.46</td>\n",
       "      <td>3.90</td>\n",
       "      <td>0.9595</td>\n",
       "      <td>0.9597</td>\n",
       "      <td>1483.0</td>\n",
       "    </tr>\n",
       "    <tr>\n",
       "      <th>3</th>\n",
       "      <td>Duke University</td>\n",
       "      <td>8.90%</td>\n",
       "      <td>3.51</td>\n",
       "      <td>3.94</td>\n",
       "      <td>0.9535</td>\n",
       "      <td>0.9745</td>\n",
       "      <td>1488.0</td>\n",
       "    </tr>\n",
       "    <tr>\n",
       "      <th>4</th>\n",
       "      <td>Harvard University</td>\n",
       "      <td>4.70%</td>\n",
       "      <td>3.65</td>\n",
       "      <td>3.94</td>\n",
       "      <td>0.9644</td>\n",
       "      <td>0.9831</td>\n",
       "      <td>1523.0</td>\n",
       "    </tr>\n",
       "  </tbody>\n",
       "</table>\n",
       "</div>"
      ],
      "text/plain": [
       "         institutions Acceptance Rate  Average GPA  \\\n",
       "0    Brown University           7.70%         3.63   \n",
       "1  Cornell University          10.90%         3.36   \n",
       "2   Dartmouth College           7.90%         3.46   \n",
       "3     Duke University           8.90%         3.51   \n",
       "4  Harvard University           4.70%         3.65   \n",
       "\n",
       "   Average GPA  of accepted students  freshmanretentionrate  \\\n",
       "0                               3.94                 0.9514   \n",
       "1                               3.90                 0.9339   \n",
       "2                               3.90                 0.9595   \n",
       "3                               3.94                 0.9535   \n",
       "4                               3.94                 0.9644   \n",
       "\n",
       "   graduationrate4years  sataverage  \n",
       "0                0.9815      1494.0  \n",
       "1                0.9713      1477.0  \n",
       "2                0.9597      1483.0  \n",
       "3                0.9745      1488.0  \n",
       "4                0.9831      1523.0  "
      ]
     },
     "execution_count": 63,
     "metadata": {},
     "output_type": "execute_result"
    }
   ],
   "source": [
    "#Merging Dataframes and filling nan value with median\n",
    "\n",
    "gpa_sat_merged = pd.merge(gpa_sat, df2018, how='inner', on=\"institutions\")#drawing len(gpa_sat) sample from all Collegescoredatas\n",
    "gpa_sat_merged_nonan = gpa_sat_merged.fillna(gpa_sat_merged.median())\n",
    "gpa_sat_merged_nonan.head()"
   ]
  },
  {
   "cell_type": "code",
   "execution_count": 17,
   "metadata": {},
   "outputs": [
    {
     "data": {
      "text/plain": [
       "institutions                         0\n",
       "Acceptance Rate                      0\n",
       "Average GPA                          0\n",
       "Average GPA  of accepted students    0\n",
       " freshman_rentention_rates           0\n",
       " gradution_rates_4_years             0\n",
       "SAT Average                          0\n",
       "dtype: int64"
      ]
     },
     "execution_count": 17,
     "metadata": {},
     "output_type": "execute_result"
    }
   ],
   "source": [
    "gpa_sat_merged.isnull().sum()"
   ]
  },
  {
   "cell_type": "code",
   "execution_count": 18,
   "metadata": {},
   "outputs": [
    {
     "data": {
      "text/plain": [
       "<bound method NDFrame.to_csv of                    institutions Acceptance Rate  Average GPA  \\\n",
       "0              Brown University           7.70%         3.63   \n",
       "1            Cornell University          10.90%         3.36   \n",
       "2             Dartmouth College           7.90%         3.46   \n",
       "3               Duke University           8.90%         3.51   \n",
       "4            Harvard University           4.70%         3.65   \n",
       "5          Princeton University           5.50%         3.39   \n",
       "6           Stanford University           4.30%         3.57   \n",
       "7    University of Pennsylvania           8.40%         3.44   \n",
       "8                 Bates College          17.80%         3.36   \n",
       "9             Boston University          22.10%         3.16   \n",
       "10             Carleton College          19.00%         3.42   \n",
       "11             Emory University          18.50%         3.38   \n",
       "12             Grinnell College          24.40%         3.34   \n",
       "13               Kenyon College          35.80%         3.42   \n",
       "14            Lehigh University          32.10%         3.17   \n",
       "15              Spelman College          43.40%         3.16   \n",
       "16               Vassar College          24.60%         3.58   \n",
       "17            Butler University          67.80%         3.25   \n",
       "18             Drury University          73.00%         3.30   \n",
       "19            Furman University          61.10%         3.20   \n",
       "20                 Hope College          84.00%         3.39   \n",
       "21     James Madison University          71.10%         3.15   \n",
       "22    Portland State University          90.00%         3.14   \n",
       "23  University of Northern Iowa          80.70%         3.02   \n",
       "24           University of Utah          62.10%         3.10   \n",
       "\n",
       "    Average GPA  of accepted students   freshman_rentention_rates  \\\n",
       "0                                3.94                      0.9514   \n",
       "1                                3.90                      0.9339   \n",
       "2                                3.90                      0.9595   \n",
       "3                                3.94                      0.9535   \n",
       "4                                3.94                      0.9644   \n",
       "5                                3.87                      0.9731   \n",
       "6                                3.96                      0.9425   \n",
       "7                                3.90                      0.9572   \n",
       "8                                3.73                      0.9240   \n",
       "9                                3.59                      0.8713   \n",
       "10                               3.90                      0.9419   \n",
       "11                               3.80                      0.9091   \n",
       "12                               3.89                      0.8728   \n",
       "13                               3.90                      0.9056   \n",
       "14                               3.81                      0.8579   \n",
       "15                               3.55                      0.7467   \n",
       "16                               3.80                      0.9073   \n",
       "17                               3.77                      0.7870   \n",
       "18                               3.70                      0.5451   \n",
       "19                               3.74                      0.8051   \n",
       "20                               3.73                      0.8029   \n",
       "21                               3.57                      0.8258   \n",
       "22                               3.38                      0.4894   \n",
       "23                               3.21                      0.6753   \n",
       "24                               3.30                      0.6740   \n",
       "\n",
       "     gradution_rates_4_years  SAT Average  \n",
       "0                     0.9815       1494.0  \n",
       "1                     0.9713       1477.0  \n",
       "2                     0.9597       1483.0  \n",
       "3                     0.9745       1488.0  \n",
       "4                     0.9831       1523.0  \n",
       "5                     0.9801       1500.0  \n",
       "6                     0.9839       1489.0  \n",
       "7                     0.9769       1506.0  \n",
       "8                     0.9498       1416.0  \n",
       "9                     0.9313       1401.0  \n",
       "10                    0.9576       1469.0  \n",
       "11                    0.9333       1443.0  \n",
       "12                    0.9564       1449.0  \n",
       "13                    0.9343       1403.0  \n",
       "14                    0.9608       1382.0  \n",
       "15                    0.8945       1163.0  \n",
       "16                    0.9574       1429.0  \n",
       "17                    0.8884       1279.0  \n",
       "18                    0.8847       1226.0  \n",
       "19                    0.9251       1319.0  \n",
       "20                    0.8809       1240.0  \n",
       "21                    0.9027       1194.0  \n",
       "22                    0.7161       1105.0  \n",
       "23                    0.8132       1166.0  \n",
       "24                    0.9048       1234.0  >"
      ]
     },
     "execution_count": 18,
     "metadata": {},
     "output_type": "execute_result"
    }
   ],
   "source": [
    "#saving clean files as csv\n",
    "gpa_sat_merged.to_csv"
   ]
  },
  {
   "cell_type": "code",
   "execution_count": 19,
   "metadata": {},
   "outputs": [
    {
     "data": {
      "text/plain": [
       "<bound method NDFrame.to_csv of                         institutions  freshmanretentionrate  \\\n",
       "0                 Adelphi University                   0.80   \n",
       "1                Agnes Scott College                   0.84   \n",
       "2                     Albion College                   0.77   \n",
       "3                  Alfred University                   0.70   \n",
       "4                  Allegheny College                   0.83   \n",
       "..                               ...                    ...   \n",
       "478                  Wofford College                   0.90   \n",
       "479  Worcester Polytechnic Institute                   0.95   \n",
       "480                Xavier University                   0.84   \n",
       "481                  Yale University                   0.90   \n",
       "482               Yeshiva University                   0.92   \n",
       "\n",
       "     graduationrate4years  graduationrate5year  \n",
       "0                    0.62                 0.71  \n",
       "1                    0.68                 0.72  \n",
       "2                    0.58                 0.66  \n",
       "3                    0.46                 0.59  \n",
       "4                    0.68                 0.72  \n",
       "..                    ...                  ...  \n",
       "478                  0.76                 0.80  \n",
       "479                  0.81                 0.88  \n",
       "480                  0.61                 0.67  \n",
       "481                  0.84                 0.95  \n",
       "482                  0.69                 0.76  \n",
       "\n",
       "[483 rows x 4 columns]>"
      ]
     },
     "execution_count": 19,
     "metadata": {},
     "output_type": "execute_result"
    }
   ],
   "source": [
    "df2021.to_csv"
   ]
  },
  {
   "cell_type": "code",
   "execution_count": 62,
   "metadata": {},
   "outputs": [
    {
     "name": "stderr",
     "output_type": "stream",
     "text": [
      "C:\\Users\\biyin\\AppData\\Local\\Temp/ipykernel_1428/2001903904.py:6: FutureWarning: In a future version of pandas all arguments of DataFrame.drop except for the argument 'labels' will be keyword-only\n",
      "  df1.drop(df1.index[7:16],0,inplace=True)\n",
      "C:\\Users\\biyin\\anaconda3\\lib\\site-packages\\IPython\\core\\interactiveshell.py:3444: DtypeWarning: Columns (6,9,1503,1517,1725,1726,1727,1728,1729,1743,1815,1816,1817,1818,1823,1824,1830,1831,1879,1880,1881,1882,1883,1884,1885,1886,1887,1888,1889,1890,1891,1892,1893,1894,1895,1896,1897,1898,1909,1910,1911,1912,1913,1957,1958,1959,1960,1961,1962,1963,1964,1965,1966,1967,1968,1969,1970,1971,1972,1973,1974,1975,1976,1983,1984,2376,2377,2393,2403,2404,2495,2496,2497,2498,2499,2500,2501,2502,2503,2504,2505,2506,2507,2508,2509,2510,2511,2512,2513,2514,2515,2516,2517,2518,2519,2520,2521,2522,2523,2524,2525,2526,2527,2528,2529,2530,2855) have mixed types.Specify dtype option on import or set low_memory=False.\n",
      "  exec(code_obj, self.user_global_ns, self.user_ns)\n",
      "C:\\Users\\biyin\\anaconda3\\lib\\site-packages\\IPython\\core\\interactiveshell.py:3444: DtypeWarning: Columns (1729,1909,1910,1911,1912,1913,2376,2377,2958) have mixed types.Specify dtype option on import or set low_memory=False.\n",
      "  exec(code_obj, self.user_global_ns, self.user_ns)\n",
      "C:\\Users\\biyin\\anaconda3\\lib\\site-packages\\IPython\\core\\interactiveshell.py:3444: DtypeWarning: Columns (1729,1909,1910,1911,1912,1913) have mixed types.Specify dtype option on import or set low_memory=False.\n",
      "  exec(code_obj, self.user_global_ns, self.user_ns)\n",
      "C:\\Users\\biyin\\anaconda3\\lib\\site-packages\\IPython\\core\\interactiveshell.py:3444: DtypeWarning: Columns (6,1729,1909,1910,1911,1912,1913) have mixed types.Specify dtype option on import or set low_memory=False.\n",
      "  exec(code_obj, self.user_global_ns, self.user_ns)\n",
      "C:\\Users\\biyin\\anaconda3\\lib\\site-packages\\IPython\\core\\interactiveshell.py:3444: DtypeWarning: Columns (1537,1540,1542,1561,1589,1590,1591,1601,1602,1606,1614,1615,1729,1909,1910,1911,1912,1913) have mixed types.Specify dtype option on import or set low_memory=False.\n",
      "  exec(code_obj, self.user_global_ns, self.user_ns)\n",
      "C:\\Users\\biyin\\anaconda3\\lib\\site-packages\\IPython\\core\\interactiveshell.py:3444: DtypeWarning: Columns (6,1537,1540,1542,1575,1589,1606,1610,1614,1615,1729,1909,1910,1911,1912,1913) have mixed types.Specify dtype option on import or set low_memory=False.\n",
      "  exec(code_obj, self.user_global_ns, self.user_ns)\n",
      "C:\\Users\\biyin\\anaconda3\\lib\\site-packages\\IPython\\core\\interactiveshell.py:3444: DtypeWarning: Columns (1547,1575,1576,1577,1587,1588,1729,1909,1910,1911,1912,1913) have mixed types.Specify dtype option on import or set low_memory=False.\n",
      "  exec(code_obj, self.user_global_ns, self.user_ns)\n",
      "C:\\Users\\biyin\\anaconda3\\lib\\site-packages\\IPython\\core\\interactiveshell.py:3444: DtypeWarning: Columns (1489,1537,1540,1542,1561,1575,1606,1614,1615,1729,1909,1910,1911,1912,1913) have mixed types.Specify dtype option on import or set low_memory=False.\n",
      "  exec(code_obj, self.user_global_ns, self.user_ns)\n",
      "C:\\Users\\biyin\\AppData\\Local\\Temp/ipykernel_1428/2001903904.py:74: FutureWarning: Dropping of nuisance columns in DataFrame reductions (with 'numeric_only=None') is deprecated; in a future version this will raise TypeError.  Select only valid columns before calling the reduction.\n",
      "  df2020_nonan = df2020.fillna(df2020.median())\n",
      "C:\\Users\\biyin\\AppData\\Local\\Temp/ipykernel_1428/2001903904.py:79: FutureWarning: Dropping of nuisance columns in DataFrame reductions (with 'numeric_only=None') is deprecated; in a future version this will raise TypeError.  Select only valid columns before calling the reduction.\n",
      "  df2018_nonan = df2018.fillna(df2018.median())\n"
     ]
    }
   ],
   "source": [
    "#LOADIND AND CLEANING EXTRA DATA\n",
    "#dataframe - submittion rate 2019 vs 2020\n",
    "minority = pd.read_csv(\"minority.csv\")\n",
    "df1 = pd.read_csv('sat_act_submitted2.csv')\n",
    "\n",
    "df1.drop(df1.index[7:16],0,inplace=True)\n",
    "df1.columns = [\"1\", \"2\",\"3\",\"4\",\"5\",\"6\"]\n",
    "\n",
    "mge = df1[\"1\"]+ df1[\"2\"]+ df1[\"3\"]\n",
    "df11 = df1[[\"5\", \"6\"]]\n",
    "df1 = pd.concat([mge , df11], axis = 1)\n",
    "df1.columns = \"Category of College\", \"% Submitted Scores 2019\",\"% Submitted Scores 2020\"\n",
    "\n",
    "df2 = pd.read_csv('sat_act_submitted.csv')  \n",
    "df = pd.concat([df1, df2], axis = 0)\n",
    "df.reset_index(level=None, drop=True, inplace=True, col_level=0, col_fill='')\n",
    "\n",
    "df['% Submitted Scores 2019'] = df['% Submitted Scores 2019'].str.rstrip('%').astype('float') / 100.0\n",
    "df['% Submitted Scores 2020'] = df['% Submitted Scores 2020'].str.rstrip('%').astype('float') / 100.0\n",
    "\n",
    "#dataframe - Collegescorecard Data 2013 to 2020\n",
    "\n",
    "df_colleges = df2021[\"institutions\"]\n",
    "\n",
    "df2020 = pd.read_csv('MERGED2019_20_PP.csv')\n",
    "df2020 = df2020[[\"INSTNM\", \"RET_FT4\", \"C150_4\", \"SAT_AVG\"]]\n",
    "df2020.columns = ['institutions', 'freshmanretentionrate', 'graduationrate4years', 'sataverage']\n",
    "df_2020_merged = pd.merge(df_colleges, df2020, how='inner', on=\"institutions\")#drawing len(df2021) sample from all Collegescoredatas\n",
    "\n",
    "\n",
    "df2019 = pd.read_csv('MERGED2018_19_PP.csv')\n",
    "df2019 = df2019[[\"INSTNM\", \"C150_4\", \"RET_FT4\", \"SAT_AVG\"]]\n",
    "df2019.columns = ['institutions', 'freshmanretentionrate', 'graduationrate4years', 'sataverage']\n",
    "df_2019_merged = pd.merge(df_colleges, df2019, how='inner', on=\"institutions\")#drawing len(df2021) sample from all Collegescoredatas\n",
    "\n",
    "\n",
    "df2018 = pd.read_csv('MERGED2017_18_PP.csv')\n",
    "df2018 = df2018[[\"INSTNM\", \"C150_4\", \"RET_FT4\", \"SAT_AVG\"]]\n",
    "df2018.columns = ['institutions', 'freshmanretentionrate', 'graduationrate4years', 'sataverage']\n",
    "df_2018_merged = pd.merge(df_colleges, df2018, how='inner', on=\"institutions\")#drawing len(df2021) sample from all Collegescoredatas\n",
    "\n",
    "\n",
    "df2017 = pd.read_csv('MERGED2016_17_PP.csv')\n",
    "df2017 = df2017[[\"INSTNM\", \"C150_4\", \"RET_FT4\", \"SAT_AVG\"]]\n",
    "df2017.columns = ['institutions', 'freshmanretentionrate', 'graduationrate4years', 'sataverage']\n",
    "df_2017_merged = pd.merge(df_colleges, df2017, how='inner', on=\"institutions\")#drawing len(df2021) sample from all Collegescoredatas\n",
    "\n",
    "\n",
    "df2016 = pd.read_csv('MERGED2015_16_PP.csv')\n",
    "df2016 = df2016[[\"INSTNM\", \"C150_4\", \"RET_FT4\", \"SAT_AVG\"]]\n",
    "df2016.columns = ['institutions', 'freshmanretentionrate', 'graduationrate4years', 'sataverage']\n",
    "df_2016_merged = pd.merge(df_colleges, df2016, how='inner', on=\"institutions\")#drawing len(df2021) sample from all Collegescoredatas\n",
    "\n",
    "\n",
    "df2015 = pd.read_csv('MERGED2014_15_PP.csv')\n",
    "df2015 = df2015[[\"INSTNM\", \"C150_4\", \"RET_FT4\", \"SAT_AVG\"]]\n",
    "df2015.columns = ['institutions', 'freshmanretentionrate', 'graduationrate4years', 'sataverage']\n",
    "df_2015_merged = pd.merge(df_colleges, df2015, how='inner', on=\"institutions\")#drawing len(df2021) sample from all Collegescoredatas\n",
    "\n",
    "\n",
    "df2014 = pd.read_csv('MERGED2013_14_PP.csv')\n",
    "df2014 = df2014[[\"INSTNM\", \"C150_4\", \"RET_FT4\", \"SAT_AVG\"]]\n",
    "df2014.columns = ['institutions', 'freshmanretentionrate', 'graduationrate4years', 'sataverage']\n",
    "df_2014_merged = pd.merge(df_colleges, df2014, how='inner', on=\"institutions\")#drawing len(df2021) sample from all Collegescoredatas\n",
    "\n",
    "\n",
    "df2013 = pd.read_csv('MERGED2012_13_PP.csv')\n",
    "df2013 = df2013[[\"INSTNM\", \"C150_4\", \"RET_FT4\", \"SAT_AVG\"]]\n",
    "df2013.columns = ['institutions', 'freshmanretentionrate', 'graduationrate4years', 'sataverage'] \n",
    "df_2013_merged = pd.merge(df_colleges, df2013, how='inner', on=\"institutions\")#drawing len(df2021) sample from all Collegescoredatas\n",
    "\n",
    "#correlation coefficient test - SAT/GRADUATION RATE\n",
    "\n",
    "df2020_nonan = df2020.fillna(df2020.median())\n",
    "data1 = df2020_nonan[['graduationrate4years', 'sataverage']]\n",
    "\n",
    "\n",
    "#correlation coefficient test - SAT/FRESHMAN RETENTION RATE\n",
    "df2018_nonan = df2018.fillna(df2018.median())\n",
    "data = df2018_nonan[['freshmanretentionrate', 'sataverage']]\n",
    "\n",
    "\n"
   ]
  },
  {
   "cell_type": "markdown",
   "metadata": {},
   "source": [
    "### Data Dictionary\n",
    "\n",
    "| Feature                 | type  | Dataset                                                | Description                   |\n",
    "|---                      |---    |---                                                     |---                            |\n",
    "|freshman_rentention_rates| float | df 2013-2020, df mean total, df2020nonan, df2018nonan  | fresh man retention rates     |   \n",
    "|Average GPA              | float | gpa_sat gpa_sat_merged, gpa_set_nonan                  | Average College GPA           |\n",
    "|gradution_rates_4_years  | float | df 2013 -2020, df mean total, df2020nonan, df2018nonan | Graudation rate 4 years       |\n",
    "|SAT average              | float | gpa_sat gpa_sat_merged, gpa_set_nonan                  | Average SAT score             |\n",
    "|% submitted score 2019   | float | df                                                     |% of SAT/ACT scores submitted  |\n",
    "|% submitted score 2020   | float | df                                                     |% of SAT/ACT scores submitted  |\n"
   ]
  },
  {
   "cell_type": "markdown",
   "metadata": {},
   "source": [
    "**To-Do:** *Edit the table below to create your own data dictionary for the datasets you chose.*\n",
    "\n",
    "|Feature|Type|Dataset|Description|\n",
    "|---|---|---|---|\n",
    "|column name|int/float/object|ACT/SAT|This is an example| \n"
   ]
  },
  {
   "cell_type": "markdown",
   "metadata": {},
   "source": [
    "## Exploratory Data Analysis (DONE)\n",
    "\n",
    "Complete the following steps to explore your data. You are welcome to do more EDA than the steps outlined here as you feel necessary:\n",
    "1. Summary Statistics. (done)\n",
    "2. Use a **dictionary comprehension** to apply the standard deviation function you create in part 1 to each numeric column in the dataframe.  **No loops**. (DONE)\n",
    "    - Assign the output to variable `sd` as a dictionary where: \n",
    "        - Each column name is now a key \n",
    "        - That standard deviation of the column is the value \n",
    "        - *Example Output :* `{'ACT_Math': 120, 'ACT_Reading': 120, ...}`\n",
    "3. Investigate trends in the data. (DONE)\n",
    "    - Using sorting and/or masking (along with the `.head()` method to avoid printing our entire dataframe), consider questions relevant to your problem statement. Some examples are provided below (but feel free to change these questions for your specific problem):\n",
    "        - Which states have the highest and lowest participation rates for the 2017, 2019, or 2019 SAT and ACT?\n",
    "        - Which states have the highest and lowest mean total/composite scores for the 2017, 2019, or 2019 SAT and ACT?\n",
    "        - Do any states with 100% participation on a given test have a rate change year-to-year?\n",
    "        - Do any states show have >50% participation on *both* tests each year?\n",
    "        - Which colleges have the highest median SAT and ACT scores for admittance?\n",
    "        - Which California school districts have the highest and lowest mean test scores?\n",
    "    - **You should comment on your findings at each step in a markdown cell below your code block**. Make sure you include at least one example of sorting your dataframe by a column, and one example of using boolean filtering (i.e., masking) to select a subset of the dataframe. (DONE)"
   ]
  },
  {
   "cell_type": "markdown",
   "metadata": {},
   "source": [
    "<font size = 3 color = \"Navy\"> Question to explore in EDA:</font>\n",
    "\n",
    "* what are the trends of freshman retention rate and graduation rate throughout the years?\n",
    "* are minorities better off with the sat exemption?\n",
    "* how did the the test exemption affect these trends?\n",
    "* how did the test exemption affect test submittion throughout the year \n",
    "* is sat a reliable guage to assess student's performance in college when considering students' admission?\n",
    "* are high school gpa a better guage for student performance than college?\n"
   ]
  },
  {
   "cell_type": "code",
   "execution_count": 25,
   "metadata": {},
   "outputs": [
    {
     "data": {
      "text/html": [
       "<div>\n",
       "<style scoped>\n",
       "    .dataframe tbody tr th:only-of-type {\n",
       "        vertical-align: middle;\n",
       "    }\n",
       "\n",
       "    .dataframe tbody tr th {\n",
       "        vertical-align: top;\n",
       "    }\n",
       "\n",
       "    .dataframe thead th {\n",
       "        text-align: right;\n",
       "    }\n",
       "</style>\n",
       "<table border=\"1\" class=\"dataframe\">\n",
       "  <thead>\n",
       "    <tr style=\"text-align: right;\">\n",
       "      <th></th>\n",
       "      <th>institutions</th>\n",
       "      <th>freshmanretentionrate</th>\n",
       "      <th>graduationrate4years</th>\n",
       "    </tr>\n",
       "  </thead>\n",
       "  <tbody>\n",
       "    <tr>\n",
       "      <th>count</th>\n",
       "      <td>483</td>\n",
       "      <td>483.000000</td>\n",
       "      <td>483.000000</td>\n",
       "    </tr>\n",
       "    <tr>\n",
       "      <th>unique</th>\n",
       "      <td>483</td>\n",
       "      <td>NaN</td>\n",
       "      <td>NaN</td>\n",
       "    </tr>\n",
       "    <tr>\n",
       "      <th>top</th>\n",
       "      <td>Adelphi University</td>\n",
       "      <td>NaN</td>\n",
       "      <td>NaN</td>\n",
       "    </tr>\n",
       "    <tr>\n",
       "      <th>freq</th>\n",
       "      <td>1</td>\n",
       "      <td>NaN</td>\n",
       "      <td>NaN</td>\n",
       "    </tr>\n",
       "    <tr>\n",
       "      <th>mean</th>\n",
       "      <td>NaN</td>\n",
       "      <td>0.860062</td>\n",
       "      <td>0.609275</td>\n",
       "    </tr>\n",
       "    <tr>\n",
       "      <th>std</th>\n",
       "      <td>NaN</td>\n",
       "      <td>0.066770</td>\n",
       "      <td>0.187427</td>\n",
       "    </tr>\n",
       "    <tr>\n",
       "      <th>min</th>\n",
       "      <td>NaN</td>\n",
       "      <td>0.620000</td>\n",
       "      <td>0.100000</td>\n",
       "    </tr>\n",
       "    <tr>\n",
       "      <th>25%</th>\n",
       "      <td>NaN</td>\n",
       "      <td>0.810000</td>\n",
       "      <td>0.470000</td>\n",
       "    </tr>\n",
       "    <tr>\n",
       "      <th>50%</th>\n",
       "      <td>NaN</td>\n",
       "      <td>0.860000</td>\n",
       "      <td>0.640000</td>\n",
       "    </tr>\n",
       "    <tr>\n",
       "      <th>75%</th>\n",
       "      <td>NaN</td>\n",
       "      <td>0.910000</td>\n",
       "      <td>0.760000</td>\n",
       "    </tr>\n",
       "    <tr>\n",
       "      <th>max</th>\n",
       "      <td>NaN</td>\n",
       "      <td>0.990000</td>\n",
       "      <td>0.930000</td>\n",
       "    </tr>\n",
       "  </tbody>\n",
       "</table>\n",
       "</div>"
      ],
      "text/plain": [
       "              institutions  freshmanretentionrate  graduationrate4years\n",
       "count                  483             483.000000            483.000000\n",
       "unique                 483                    NaN                   NaN\n",
       "top     Adelphi University                    NaN                   NaN\n",
       "freq                     1                    NaN                   NaN\n",
       "mean                   NaN               0.860062              0.609275\n",
       "std                    NaN               0.066770              0.187427\n",
       "min                    NaN               0.620000              0.100000\n",
       "25%                    NaN               0.810000              0.470000\n",
       "50%                    NaN               0.860000              0.640000\n",
       "75%                    NaN               0.910000              0.760000\n",
       "max                    NaN               0.990000              0.930000"
      ]
     },
     "execution_count": 25,
     "metadata": {},
     "output_type": "execute_result"
    }
   ],
   "source": [
    "#summary Statistic \n",
    "df2021.describe(include = 'all')"
   ]
  },
  {
   "cell_type": "code",
   "execution_count": 23,
   "metadata": {},
   "outputs": [
    {
     "data": {
      "text/html": [
       "<div>\n",
       "<style scoped>\n",
       "    .dataframe tbody tr th:only-of-type {\n",
       "        vertical-align: middle;\n",
       "    }\n",
       "\n",
       "    .dataframe tbody tr th {\n",
       "        vertical-align: top;\n",
       "    }\n",
       "\n",
       "    .dataframe thead th {\n",
       "        text-align: right;\n",
       "    }\n",
       "</style>\n",
       "<table border=\"1\" class=\"dataframe\">\n",
       "  <thead>\n",
       "    <tr style=\"text-align: right;\">\n",
       "      <th></th>\n",
       "      <th>institutions</th>\n",
       "      <th>freshman_rentention_rates</th>\n",
       "      <th>gradution_rates_4_years</th>\n",
       "      <th>SAT Average</th>\n",
       "    </tr>\n",
       "  </thead>\n",
       "  <tbody>\n",
       "    <tr>\n",
       "      <th>count</th>\n",
       "      <td>7112</td>\n",
       "      <td>2384.000000</td>\n",
       "      <td>2173.000000</td>\n",
       "      <td>1320.000000</td>\n",
       "    </tr>\n",
       "    <tr>\n",
       "      <th>unique</th>\n",
       "      <td>6967</td>\n",
       "      <td>NaN</td>\n",
       "      <td>NaN</td>\n",
       "      <td>NaN</td>\n",
       "    </tr>\n",
       "    <tr>\n",
       "      <th>top</th>\n",
       "      <td>Stevens-Henager College</td>\n",
       "      <td>NaN</td>\n",
       "      <td>NaN</td>\n",
       "      <td>NaN</td>\n",
       "    </tr>\n",
       "    <tr>\n",
       "      <th>freq</th>\n",
       "      <td>7</td>\n",
       "      <td>NaN</td>\n",
       "      <td>NaN</td>\n",
       "      <td>NaN</td>\n",
       "    </tr>\n",
       "    <tr>\n",
       "      <th>mean</th>\n",
       "      <td>NaN</td>\n",
       "      <td>0.486470</td>\n",
       "      <td>0.717426</td>\n",
       "      <td>1131.888636</td>\n",
       "    </tr>\n",
       "    <tr>\n",
       "      <th>std</th>\n",
       "      <td>NaN</td>\n",
       "      <td>0.223777</td>\n",
       "      <td>0.186226</td>\n",
       "      <td>130.070112</td>\n",
       "    </tr>\n",
       "    <tr>\n",
       "      <th>min</th>\n",
       "      <td>NaN</td>\n",
       "      <td>0.000000</td>\n",
       "      <td>0.000000</td>\n",
       "      <td>564.000000</td>\n",
       "    </tr>\n",
       "    <tr>\n",
       "      <th>25%</th>\n",
       "      <td>NaN</td>\n",
       "      <td>0.320525</td>\n",
       "      <td>0.640200</td>\n",
       "      <td>1045.000000</td>\n",
       "    </tr>\n",
       "    <tr>\n",
       "      <th>50%</th>\n",
       "      <td>NaN</td>\n",
       "      <td>0.493100</td>\n",
       "      <td>0.750000</td>\n",
       "      <td>1116.500000</td>\n",
       "    </tr>\n",
       "    <tr>\n",
       "      <th>75%</th>\n",
       "      <td>NaN</td>\n",
       "      <td>0.643075</td>\n",
       "      <td>0.835600</td>\n",
       "      <td>1195.000000</td>\n",
       "    </tr>\n",
       "    <tr>\n",
       "      <th>max</th>\n",
       "      <td>NaN</td>\n",
       "      <td>1.000000</td>\n",
       "      <td>1.000000</td>\n",
       "      <td>1558.000000</td>\n",
       "    </tr>\n",
       "  </tbody>\n",
       "</table>\n",
       "</div>"
      ],
      "text/plain": [
       "                   institutions   freshman_rentention_rates  \\\n",
       "count                      7112                 2384.000000   \n",
       "unique                     6967                         NaN   \n",
       "top     Stevens-Henager College                         NaN   \n",
       "freq                          7                         NaN   \n",
       "mean                        NaN                    0.486470   \n",
       "std                         NaN                    0.223777   \n",
       "min                         NaN                    0.000000   \n",
       "25%                         NaN                    0.320525   \n",
       "50%                         NaN                    0.493100   \n",
       "75%                         NaN                    0.643075   \n",
       "max                         NaN                    1.000000   \n",
       "\n",
       "         gradution_rates_4_years  SAT Average  \n",
       "count                2173.000000  1320.000000  \n",
       "unique                       NaN          NaN  \n",
       "top                          NaN          NaN  \n",
       "freq                         NaN          NaN  \n",
       "mean                    0.717426  1131.888636  \n",
       "std                     0.186226   130.070112  \n",
       "min                     0.000000   564.000000  \n",
       "25%                     0.640200  1045.000000  \n",
       "50%                     0.750000  1116.500000  \n",
       "75%                     0.835600  1195.000000  \n",
       "max                     1.000000  1558.000000  "
      ]
     },
     "execution_count": 23,
     "metadata": {},
     "output_type": "execute_result"
    }
   ],
   "source": [
    "df2018.describe(include = 'all')"
   ]
  },
  {
   "cell_type": "code",
   "execution_count": 99,
   "metadata": {},
   "outputs": [
    {
     "data": {
      "text/plain": [
       "{'freshmanretentionrate': 0.06670130782155263,\n",
       " 'graduationrate4years': 0.18723246684098746}"
      ]
     },
     "execution_count": 99,
     "metadata": {},
     "output_type": "execute_result"
    }
   ],
   "source": [
    "#Use a dictionary comprehension to apply the standard deviation\n",
    "\n",
    "dict1 = df2021\n",
    "dict1.keys()\n",
    "dict1_Std = {'freshmanretentionrate': SD(dict1['freshmanretentionrate']), 'graduationrate4years': SD(dict1['graduationrate4years']) }\n",
    "dict1_Std"
   ]
  },
  {
   "cell_type": "code",
   "execution_count": 41,
   "metadata": {},
   "outputs": [
    {
     "name": "stderr",
     "output_type": "stream",
     "text": [
      "C:\\Users\\biyin\\AppData\\Local\\Temp/ipykernel_1428/3124175492.py:2: FutureWarning: Dropping of nuisance columns in DataFrame reductions (with 'numeric_only=None') is deprecated; in a future version this will raise TypeError.  Select only valid columns before calling the reduction.\n",
      "  df2021_mean = pd.Series.mean(df2021)\n",
      "C:\\Users\\biyin\\AppData\\Local\\Temp/ipykernel_1428/3124175492.py:3: FutureWarning: Dropping of nuisance columns in DataFrame reductions (with 'numeric_only=None') is deprecated; in a future version this will raise TypeError.  Select only valid columns before calling the reduction.\n",
      "  df2020_mean = pd.Series.mean(df_2020_merged)\n",
      "C:\\Users\\biyin\\AppData\\Local\\Temp/ipykernel_1428/3124175492.py:4: FutureWarning: Dropping of nuisance columns in DataFrame reductions (with 'numeric_only=None') is deprecated; in a future version this will raise TypeError.  Select only valid columns before calling the reduction.\n",
      "  df2019_mean = pd.Series.mean(df_2019_merged)\n",
      "C:\\Users\\biyin\\AppData\\Local\\Temp/ipykernel_1428/3124175492.py:5: FutureWarning: Dropping of nuisance columns in DataFrame reductions (with 'numeric_only=None') is deprecated; in a future version this will raise TypeError.  Select only valid columns before calling the reduction.\n",
      "  df2018_mean = pd.Series.mean(df_2018_merged)\n",
      "C:\\Users\\biyin\\AppData\\Local\\Temp/ipykernel_1428/3124175492.py:6: FutureWarning: Dropping of nuisance columns in DataFrame reductions (with 'numeric_only=None') is deprecated; in a future version this will raise TypeError.  Select only valid columns before calling the reduction.\n",
      "  df2017_mean = pd.Series.mean(df_2017_merged)\n",
      "C:\\Users\\biyin\\AppData\\Local\\Temp/ipykernel_1428/3124175492.py:7: FutureWarning: Dropping of nuisance columns in DataFrame reductions (with 'numeric_only=None') is deprecated; in a future version this will raise TypeError.  Select only valid columns before calling the reduction.\n",
      "  df2016_mean = pd.Series.mean(df_2016_merged)\n",
      "C:\\Users\\biyin\\AppData\\Local\\Temp/ipykernel_1428/3124175492.py:8: FutureWarning: Dropping of nuisance columns in DataFrame reductions (with 'numeric_only=None') is deprecated; in a future version this will raise TypeError.  Select only valid columns before calling the reduction.\n",
      "  df2015_mean = pd.Series.mean(df_2015_merged)\n",
      "C:\\Users\\biyin\\AppData\\Local\\Temp/ipykernel_1428/3124175492.py:9: FutureWarning: Dropping of nuisance columns in DataFrame reductions (with 'numeric_only=None') is deprecated; in a future version this will raise TypeError.  Select only valid columns before calling the reduction.\n",
      "  df2014_mean = pd.Series.mean(df_2014_merged)\n",
      "C:\\Users\\biyin\\AppData\\Local\\Temp/ipykernel_1428/3124175492.py:10: FutureWarning: Dropping of nuisance columns in DataFrame reductions (with 'numeric_only=None') is deprecated; in a future version this will raise TypeError.  Select only valid columns before calling the reduction.\n",
      "  df2013_mean = pd.Series.mean(df_2013_merged)\n"
     ]
    },
    {
     "data": {
      "text/html": [
       "<div>\n",
       "<style scoped>\n",
       "    .dataframe tbody tr th:only-of-type {\n",
       "        vertical-align: middle;\n",
       "    }\n",
       "\n",
       "    .dataframe tbody tr th {\n",
       "        vertical-align: top;\n",
       "    }\n",
       "\n",
       "    .dataframe thead th {\n",
       "        text-align: right;\n",
       "    }\n",
       "</style>\n",
       "<table border=\"1\" class=\"dataframe\">\n",
       "  <thead>\n",
       "    <tr style=\"text-align: right;\">\n",
       "      <th></th>\n",
       "      <th>freshmanretentionrate</th>\n",
       "      <th>graduationrate4years</th>\n",
       "      <th>sataverage</th>\n",
       "    </tr>\n",
       "  </thead>\n",
       "  <tbody>\n",
       "    <tr>\n",
       "      <th>2013</th>\n",
       "      <td>0.705482</td>\n",
       "      <td>0.856163</td>\n",
       "      <td>1183.160622</td>\n",
       "    </tr>\n",
       "    <tr>\n",
       "      <th>2014</th>\n",
       "      <td>0.706918</td>\n",
       "      <td>0.859253</td>\n",
       "      <td>1184.530928</td>\n",
       "    </tr>\n",
       "    <tr>\n",
       "      <th>2015</th>\n",
       "      <td>0.712036</td>\n",
       "      <td>0.862839</td>\n",
       "      <td>1185.554598</td>\n",
       "    </tr>\n",
       "    <tr>\n",
       "      <th>2016</th>\n",
       "      <td>0.717480</td>\n",
       "      <td>0.862702</td>\n",
       "      <td>1188.686391</td>\n",
       "    </tr>\n",
       "    <tr>\n",
       "      <th>2017</th>\n",
       "      <td>0.719707</td>\n",
       "      <td>0.862543</td>\n",
       "      <td>1191.393162</td>\n",
       "    </tr>\n",
       "    <tr>\n",
       "      <th>2018</th>\n",
       "      <td>0.725968</td>\n",
       "      <td>0.861243</td>\n",
       "      <td>1253.333333</td>\n",
       "    </tr>\n",
       "    <tr>\n",
       "      <th>2019</th>\n",
       "      <td>0.731860</td>\n",
       "      <td>0.856927</td>\n",
       "      <td>1257.160665</td>\n",
       "    </tr>\n",
       "    <tr>\n",
       "      <th>2020</th>\n",
       "      <td>0.858554</td>\n",
       "      <td>0.739104</td>\n",
       "      <td>1258.690411</td>\n",
       "    </tr>\n",
       "    <tr>\n",
       "      <th>2021</th>\n",
       "      <td>0.860062</td>\n",
       "      <td>0.609275</td>\n",
       "      <td>1212.813764</td>\n",
       "    </tr>\n",
       "  </tbody>\n",
       "</table>\n",
       "</div>"
      ],
      "text/plain": [
       "      freshmanretentionrate  graduationrate4years   sataverage\n",
       "2013               0.705482              0.856163  1183.160622\n",
       "2014               0.706918              0.859253  1184.530928\n",
       "2015               0.712036              0.862839  1185.554598\n",
       "2016               0.717480              0.862702  1188.686391\n",
       "2017               0.719707              0.862543  1191.393162\n",
       "2018               0.725968              0.861243  1253.333333\n",
       "2019               0.731860              0.856927  1257.160665\n",
       "2020               0.858554              0.739104  1258.690411\n",
       "2021               0.860062              0.609275  1212.813764"
      ]
     },
     "execution_count": 41,
     "metadata": {},
     "output_type": "execute_result"
    }
   ],
   "source": [
    "#Merge dataframe of rentiontion rate mean and graduation rate mean throughout the year (EXPLORING TRENDS)\n",
    "df2021_mean = pd.Series.mean(df2021)\n",
    "df2020_mean = pd.Series.mean(df_2020_merged)\n",
    "df2019_mean = pd.Series.mean(df_2019_merged)\n",
    "df2018_mean = pd.Series.mean(df_2018_merged)\n",
    "df2017_mean = pd.Series.mean(df_2017_merged)\n",
    "df2016_mean = pd.Series.mean(df_2016_merged)\n",
    "df2015_mean = pd.Series.mean(df_2015_merged)\n",
    "df2014_mean = pd.Series.mean(df_2014_merged)\n",
    "df2013_mean = pd.Series.mean(df_2013_merged)\n",
    "\n",
    "df_mean_total = pd.concat([df2013_mean, df2014_mean, df2015_mean, df2016_mean, df2017_mean, df2018_mean, df2019_mean, df2020_mean, df2021_mean], axis = 1)\n",
    "df_mean_total.columns = [\"2013\", \"2014\",\"2015\",\"2016\",\"2017\",\"2018\", \"2019\", \"2020\", \"2021\" ]\n",
    "df_mean_total = df_mean_total.transpose()\n",
    "df_mean_total = df_mean_total.fillna(df_mean_total.mean())\n",
    "\n",
    "df_mean_total\n",
    "\n",
    "\n"
   ]
  },
  {
   "cell_type": "markdown",
   "metadata": {},
   "source": [
    "<font size = 3 color = \"Navy\"> Findings:</font>\n",
    "\n",
    "* There is a significant drop in graduation rate after the test exemption was implemented (2018 -19)\n",
    "* There is a sinificant increase in freshman retentionrate after the test exemption was implemented (2018-19)</font>\n"
   ]
  },
  {
   "cell_type": "code",
   "execution_count": 59,
   "metadata": {},
   "outputs": [
    {
     "data": {
      "text/html": [
       "<div>\n",
       "<style scoped>\n",
       "    .dataframe tbody tr th:only-of-type {\n",
       "        vertical-align: middle;\n",
       "    }\n",
       "\n",
       "    .dataframe tbody tr th {\n",
       "        vertical-align: top;\n",
       "    }\n",
       "\n",
       "    .dataframe thead th {\n",
       "        text-align: right;\n",
       "    }\n",
       "</style>\n",
       "<table border=\"1\" class=\"dataframe\">\n",
       "  <thead>\n",
       "    <tr style=\"text-align: right;\">\n",
       "      <th></th>\n",
       "      <th>graduationrate4years</th>\n",
       "      <th>sataverage</th>\n",
       "    </tr>\n",
       "  </thead>\n",
       "  <tbody>\n",
       "    <tr>\n",
       "      <th>graduationrate4years</th>\n",
       "      <td>1.000000</td>\n",
       "      <td>0.515927</td>\n",
       "    </tr>\n",
       "    <tr>\n",
       "      <th>sataverage</th>\n",
       "      <td>0.515927</td>\n",
       "      <td>1.000000</td>\n",
       "    </tr>\n",
       "  </tbody>\n",
       "</table>\n",
       "</div>"
      ],
      "text/plain": [
       "                      graduationrate4years  sataverage\n",
       "graduationrate4years              1.000000    0.515927\n",
       "sataverage                        0.515927    1.000000"
      ]
     },
     "execution_count": 59,
     "metadata": {},
     "output_type": "execute_result"
    }
   ],
   "source": [
    "#correlation between graduation rate and SAT\n",
    "#Correlation between retention rate and SAT\n",
    "correlation = data1.corr(method='pearson')\n",
    "correlation_sat_retention = data.corr(method='pearson')\n",
    "\n",
    "correlation"
   ]
  },
  {
   "cell_type": "code",
   "execution_count": 60,
   "metadata": {},
   "outputs": [
    {
     "data": {
      "text/html": [
       "<div>\n",
       "<style scoped>\n",
       "    .dataframe tbody tr th:only-of-type {\n",
       "        vertical-align: middle;\n",
       "    }\n",
       "\n",
       "    .dataframe tbody tr th {\n",
       "        vertical-align: top;\n",
       "    }\n",
       "\n",
       "    .dataframe thead th {\n",
       "        text-align: right;\n",
       "    }\n",
       "</style>\n",
       "<table border=\"1\" class=\"dataframe\">\n",
       "  <thead>\n",
       "    <tr style=\"text-align: right;\">\n",
       "      <th></th>\n",
       "      <th>freshmanretentionrate</th>\n",
       "      <th>sataverage</th>\n",
       "    </tr>\n",
       "  </thead>\n",
       "  <tbody>\n",
       "    <tr>\n",
       "      <th>freshmanretentionrate</th>\n",
       "      <td>1.000000</td>\n",
       "      <td>0.504544</td>\n",
       "    </tr>\n",
       "    <tr>\n",
       "      <th>sataverage</th>\n",
       "      <td>0.504544</td>\n",
       "      <td>1.000000</td>\n",
       "    </tr>\n",
       "  </tbody>\n",
       "</table>\n",
       "</div>"
      ],
      "text/plain": [
       "                       freshmanretentionrate  sataverage\n",
       "freshmanretentionrate               1.000000    0.504544\n",
       "sataverage                          0.504544    1.000000"
      ]
     },
     "execution_count": 60,
     "metadata": {},
     "output_type": "execute_result"
    }
   ],
   "source": [
    "correlation_sat_retention"
   ]
  },
  {
   "cell_type": "markdown",
   "metadata": {},
   "source": [
    "<font size = 3 color = \"Navy\"> Findings:</font>\n",
    "\n",
    "* SAT has a medium correlation with graduation rate and retention rate. This shows that SAT is a good indicator of both of these viables\n"
   ]
  },
  {
   "cell_type": "code",
   "execution_count": 66,
   "metadata": {},
   "outputs": [
    {
     "name": "stderr",
     "output_type": "stream",
     "text": [
      "C:\\Users\\biyin\\AppData\\Local\\Temp/ipykernel_1428/2914174157.py:5: FutureWarning: Dropping of nuisance columns in DataFrame reductions (with 'numeric_only=None') is deprecated; in a future version this will raise TypeError.  Select only valid columns before calling the reduction.\n",
      "  gpa_sat_merged_nonan = gpa_sat_merged.fillna(gpa_sat_merged.median())\n"
     ]
    },
    {
     "data": {
      "text/html": [
       "<div>\n",
       "<style scoped>\n",
       "    .dataframe tbody tr th:only-of-type {\n",
       "        vertical-align: middle;\n",
       "    }\n",
       "\n",
       "    .dataframe tbody tr th {\n",
       "        vertical-align: top;\n",
       "    }\n",
       "\n",
       "    .dataframe thead th {\n",
       "        text-align: right;\n",
       "    }\n",
       "</style>\n",
       "<table border=\"1\" class=\"dataframe\">\n",
       "  <thead>\n",
       "    <tr style=\"text-align: right;\">\n",
       "      <th></th>\n",
       "      <th>Average GPA  of accepted students</th>\n",
       "      <th>Average GPA</th>\n",
       "    </tr>\n",
       "  </thead>\n",
       "  <tbody>\n",
       "    <tr>\n",
       "      <th>Average GPA  of accepted students</th>\n",
       "      <td>1.000000</td>\n",
       "      <td>0.828327</td>\n",
       "    </tr>\n",
       "    <tr>\n",
       "      <th>Average GPA</th>\n",
       "      <td>0.828327</td>\n",
       "      <td>1.000000</td>\n",
       "    </tr>\n",
       "  </tbody>\n",
       "</table>\n",
       "</div>"
      ],
      "text/plain": [
       "                                   Average GPA  of accepted students  \\\n",
       "Average GPA  of accepted students                           1.000000   \n",
       "Average GPA                                                 0.828327   \n",
       "\n",
       "                                   Average GPA  \n",
       "Average GPA  of accepted students     0.828327  \n",
       "Average GPA                           1.000000  "
      ]
     },
     "execution_count": 66,
     "metadata": {},
     "output_type": "execute_result"
    }
   ],
   "source": [
    "#Correlation between College GPA and High School GPA\n",
    "#Correlation between College GPA and SAT\n",
    "gpa_sat = pd.read_csv('gpa_sat.csv')\n",
    "gpa_sat_merged = pd.merge(gpa_sat, df2018, how='inner', on=\"institutions\")#drawing len(gpa_sat) sample from all Collegescoredatas\n",
    "gpa_sat_merged_nonan = gpa_sat_merged.fillna(gpa_sat_merged.median())\n",
    "\n",
    "data3 = gpa_sat_merged_nonan[['sataverage', 'Average GPA']]\n",
    "correlation_gpa_sat = data3.corr(method='pearson')\n",
    "\n",
    "data4 = gpa_sat_merged_nonan[['Average GPA  of accepted students', 'Average GPA']]\n",
    "correlation_gpa_hsgpa = data4.corr(method='pearson')\n",
    "correlation_gpa_hsgpa"
   ]
  },
  {
   "cell_type": "code",
   "execution_count": 67,
   "metadata": {},
   "outputs": [
    {
     "data": {
      "text/html": [
       "<div>\n",
       "<style scoped>\n",
       "    .dataframe tbody tr th:only-of-type {\n",
       "        vertical-align: middle;\n",
       "    }\n",
       "\n",
       "    .dataframe tbody tr th {\n",
       "        vertical-align: top;\n",
       "    }\n",
       "\n",
       "    .dataframe thead th {\n",
       "        text-align: right;\n",
       "    }\n",
       "</style>\n",
       "<table border=\"1\" class=\"dataframe\">\n",
       "  <thead>\n",
       "    <tr style=\"text-align: right;\">\n",
       "      <th></th>\n",
       "      <th>sataverage</th>\n",
       "      <th>Average GPA</th>\n",
       "    </tr>\n",
       "  </thead>\n",
       "  <tbody>\n",
       "    <tr>\n",
       "      <th>sataverage</th>\n",
       "      <td>1.000000</td>\n",
       "      <td>0.779752</td>\n",
       "    </tr>\n",
       "    <tr>\n",
       "      <th>Average GPA</th>\n",
       "      <td>0.779752</td>\n",
       "      <td>1.000000</td>\n",
       "    </tr>\n",
       "  </tbody>\n",
       "</table>\n",
       "</div>"
      ],
      "text/plain": [
       "             sataverage  Average GPA\n",
       "sataverage     1.000000     0.779752\n",
       "Average GPA    0.779752     1.000000"
      ]
     },
     "execution_count": 67,
     "metadata": {},
     "output_type": "execute_result"
    }
   ],
   "source": [
    "correlation_gpa_sat "
   ]
  },
  {
   "cell_type": "markdown",
   "metadata": {},
   "source": [
    "<font size = 3 color = \"Navy\"> Findings:</font>\n",
    "\n",
    "* High school gpa has a stronger correlation with College GPA then SAT with College GPA. This shows that High school GPA may be a better guage of students' perfermance in college.\n"
   ]
  },
  {
   "cell_type": "code",
   "execution_count": 75,
   "metadata": {},
   "outputs": [
    {
     "data": {
      "text/html": [
       "<div>\n",
       "<style scoped>\n",
       "    .dataframe tbody tr th:only-of-type {\n",
       "        vertical-align: middle;\n",
       "    }\n",
       "\n",
       "    .dataframe tbody tr th {\n",
       "        vertical-align: top;\n",
       "    }\n",
       "\n",
       "    .dataframe thead th {\n",
       "        text-align: right;\n",
       "    }\n",
       "</style>\n",
       "<table border=\"1\" class=\"dataframe\">\n",
       "  <thead>\n",
       "    <tr style=\"text-align: right;\">\n",
       "      <th></th>\n",
       "      <th>black</th>\n",
       "      <th>Hispanic</th>\n",
       "      <th>Asian</th>\n",
       "      <th>pacfic islander</th>\n",
       "      <th>American indian/ alaska native</th>\n",
       "      <th>two or more race</th>\n",
       "    </tr>\n",
       "  </thead>\n",
       "  <tbody>\n",
       "    <tr>\n",
       "      <th>0</th>\n",
       "      <td>37.2</td>\n",
       "      <td>35.9</td>\n",
       "      <td>59.0</td>\n",
       "      <td>23.8</td>\n",
       "      <td>24.2</td>\n",
       "      <td>44.3</td>\n",
       "    </tr>\n",
       "    <tr>\n",
       "      <th>1</th>\n",
       "      <td>37.0</td>\n",
       "      <td>36.3</td>\n",
       "      <td>62.0</td>\n",
       "      <td>42.7</td>\n",
       "      <td>23.6</td>\n",
       "      <td>46.9</td>\n",
       "    </tr>\n",
       "  </tbody>\n",
       "</table>\n",
       "</div>"
      ],
      "text/plain": [
       "   black  Hispanic  Asian  pacfic islander  American indian/ alaska native  \\\n",
       "0   37.2      35.9   59.0             23.8                            24.2   \n",
       "1   37.0      36.3   62.0             42.7                            23.6   \n",
       "\n",
       "   two or more race  \n",
       "0              44.3  \n",
       "1              46.9  "
      ]
     },
     "execution_count": 75,
     "metadata": {},
     "output_type": "execute_result"
    }
   ],
   "source": [
    "#Comparing minority admission rate before and after the exemption of test results\n",
    "minority"
   ]
  },
  {
   "cell_type": "markdown",
   "metadata": {},
   "source": [
    "<font size = 3 color = \"Navy\"> Findings:</font>\n",
    "\n",
    "* High school gpa has a stronger correlation with College GPA then SAT with College GPA. This shows that High school GPA may be a better guage of students' perfermance in college.\n"
   ]
  },
  {
   "cell_type": "code",
   "execution_count": 77,
   "metadata": {},
   "outputs": [
    {
     "data": {
      "text/plain": [
       "0    224.4\n",
       "1    248.5\n",
       "dtype: float64"
      ]
     },
     "execution_count": 77,
     "metadata": {},
     "output_type": "execute_result"
    }
   ],
   "source": [
    "minority_sum = minority.sum(axis=1)\n",
    "minority_sum"
   ]
  },
  {
   "cell_type": "markdown",
   "metadata": {},
   "source": [
    "<font size = 3 color = \"Navy\"> Findings:</font>\n",
    "\n",
    "* Admission rate of minorities increased after the exemption of test results. This may suggest the implemention benefits minorities"
   ]
  },
  {
   "cell_type": "markdown",
   "metadata": {},
   "source": [
    "<font size = 3 color = \"Navy\"> COLLECTIVE FINDINGS EDA:</font>\n",
    "\n",
    "* Admission rate of minorities increased after the exemption of test results. This may suggest the implemention benefits minorities\n",
    "* High school gpa has a stronger correlation with College GPA then SAT with College GPA. This shows that High school GPA may be a better guage of students' perfermance in college.\n",
    "* SAT has a medium correlation with graduation rate and retention rate. This shows that SAT is a good indicator of both of these viables\n",
    "* There is a significant drop in graduation rate after the test exemption was implemented (2018 -19)\n",
    "* There is a sinificant increase in freshman retentionrate after the test exemption was implemented (2018-19)</font>\n",
    "\n"
   ]
  },
  {
   "cell_type": "code",
   "execution_count": 185,
   "metadata": {},
   "outputs": [
    {
     "data": {
      "text/html": [
       "<div>\n",
       "<style scoped>\n",
       "    .dataframe tbody tr th:only-of-type {\n",
       "        vertical-align: middle;\n",
       "    }\n",
       "\n",
       "    .dataframe tbody tr th {\n",
       "        vertical-align: top;\n",
       "    }\n",
       "\n",
       "    .dataframe thead tr th {\n",
       "        text-align: left;\n",
       "    }\n",
       "</style>\n",
       "<table border=\"1\" class=\"dataframe\">\n",
       "  <thead>\n",
       "    <tr>\n",
       "      <th></th>\n",
       "      <th>school</th>\n",
       "      <th>test_optional</th>\n",
       "      <th>applies_to_class_years</th>\n",
       "      <th>policydetails</th>\n",
       "      <th>no_of_applicants</th>\n",
       "      <th>acceptrate</th>\n",
       "      <th>sat</th>\n",
       "      <th>act</th>\n",
       "    </tr>\n",
       "  </thead>\n",
       "  <tbody>\n",
       "    <tr>\n",
       "      <th>0</th>\n",
       "      <td>Stanford University</td>\n",
       "      <td>Yes</td>\n",
       "      <td>2021</td>\n",
       "      <td>Stanford has adopted a one-year test optional ...</td>\n",
       "      <td>47452</td>\n",
       "      <td>4.3%</td>\n",
       "      <td>1440-1570</td>\n",
       "      <td>32-35</td>\n",
       "    </tr>\n",
       "    <tr>\n",
       "      <th>1</th>\n",
       "      <td>Harvard College</td>\n",
       "      <td>Yes</td>\n",
       "      <td>2021</td>\n",
       "      <td>Harvard has adopted a one-year test optional p...</td>\n",
       "      <td>42749</td>\n",
       "      <td>4.7%</td>\n",
       "      <td>1460-1580</td>\n",
       "      <td>33-35</td>\n",
       "    </tr>\n",
       "    <tr>\n",
       "      <th>2</th>\n",
       "      <td>Princeton University</td>\n",
       "      <td>Yes</td>\n",
       "      <td>2021</td>\n",
       "      <td>Princeton has adopted a one-year test optional...</td>\n",
       "      <td>35370</td>\n",
       "      <td>5.5%</td>\n",
       "      <td>1440-1570</td>\n",
       "      <td>32-35</td>\n",
       "    </tr>\n",
       "    <tr>\n",
       "      <th>3</th>\n",
       "      <td>Columbia University</td>\n",
       "      <td>Yes</td>\n",
       "      <td>2021</td>\n",
       "      <td>Columbia has adopted a one-year test optional ...</td>\n",
       "      <td>40203</td>\n",
       "      <td>5.5%</td>\n",
       "      <td>1450-1560</td>\n",
       "      <td>33-35</td>\n",
       "    </tr>\n",
       "    <tr>\n",
       "      <th>4</th>\n",
       "      <td>Yale University</td>\n",
       "      <td>Yes</td>\n",
       "      <td>2021</td>\n",
       "      <td>Yale has adopted a one-year test optional poli...</td>\n",
       "      <td>36844</td>\n",
       "      <td>6.1%</td>\n",
       "      <td>1460-1570</td>\n",
       "      <td>33-35</td>\n",
       "    </tr>\n",
       "    <tr>\n",
       "      <th>...</th>\n",
       "      <td>...</td>\n",
       "      <td>...</td>\n",
       "      <td>...</td>\n",
       "      <td>...</td>\n",
       "      <td>...</td>\n",
       "      <td>...</td>\n",
       "      <td>...</td>\n",
       "      <td>...</td>\n",
       "    </tr>\n",
       "    <tr>\n",
       "      <th>411</th>\n",
       "      <td>University of Texas Rio Grande Valley</td>\n",
       "      <td>No</td>\n",
       "      <td>NaN</td>\n",
       "      <td>University of Texas Rio Grande Valley requires...</td>\n",
       "      <td>10680</td>\n",
       "      <td>79.8%</td>\n",
       "      <td>950-1130</td>\n",
       "      <td>17-22</td>\n",
       "    </tr>\n",
       "    <tr>\n",
       "      <th>412</th>\n",
       "      <td>University of South Dakota</td>\n",
       "      <td>No</td>\n",
       "      <td>NaN</td>\n",
       "      <td>Unviersity of South Dakota requires either the...</td>\n",
       "      <td>4434</td>\n",
       "      <td>86.4%</td>\n",
       "      <td>990-1180</td>\n",
       "      <td>19-25</td>\n",
       "    </tr>\n",
       "    <tr>\n",
       "      <th>413</th>\n",
       "      <td>University of Mississippi</td>\n",
       "      <td>No</td>\n",
       "      <td>NaN</td>\n",
       "      <td>Ole Miss requires either the SAT or ACT. It do...</td>\n",
       "      <td>15371</td>\n",
       "      <td>88.1%</td>\n",
       "      <td>1050-1270</td>\n",
       "      <td>21-29</td>\n",
       "    </tr>\n",
       "    <tr>\n",
       "      <th>414</th>\n",
       "      <td>University of Wyoming</td>\n",
       "      <td>No</td>\n",
       "      <td>NaN</td>\n",
       "      <td>University of Wyoming requires either the SAT ...</td>\n",
       "      <td>5348</td>\n",
       "      <td>96.0%</td>\n",
       "      <td>1060-1280</td>\n",
       "      <td>22-28</td>\n",
       "    </tr>\n",
       "    <tr>\n",
       "      <th>415</th>\n",
       "      <td>University of Texas El Paso</td>\n",
       "      <td>No</td>\n",
       "      <td>NaN</td>\n",
       "      <td>UTEP requires either the SAT or ACT. It does n...</td>\n",
       "      <td>7157</td>\n",
       "      <td>99.9%</td>\n",
       "      <td>820-1050</td>\n",
       "      <td>17-23</td>\n",
       "    </tr>\n",
       "  </tbody>\n",
       "</table>\n",
       "<p>416 rows × 8 columns</p>\n",
       "</div>"
      ],
      "text/plain": [
       "                                    school test_optional  \\\n",
       "0                      Stanford University           Yes   \n",
       "1                          Harvard College           Yes   \n",
       "2                     Princeton University           Yes   \n",
       "3                      Columbia University           Yes   \n",
       "4                          Yale University           Yes   \n",
       "..                                     ...           ...   \n",
       "411  University of Texas Rio Grande Valley            No   \n",
       "412             University of South Dakota            No   \n",
       "413              University of Mississippi            No   \n",
       "414                  University of Wyoming            No   \n",
       "415            University of Texas El Paso            No   \n",
       "\n",
       "    applies_to_class_years                                      policydetails  \\\n",
       "0                     2021  Stanford has adopted a one-year test optional ...   \n",
       "1                     2021  Harvard has adopted a one-year test optional p...   \n",
       "2                     2021  Princeton has adopted a one-year test optional...   \n",
       "3                     2021  Columbia has adopted a one-year test optional ...   \n",
       "4                     2021  Yale has adopted a one-year test optional poli...   \n",
       "..                     ...                                                ...   \n",
       "411                    NaN  University of Texas Rio Grande Valley requires...   \n",
       "412                    NaN  Unviersity of South Dakota requires either the...   \n",
       "413                    NaN  Ole Miss requires either the SAT or ACT. It do...   \n",
       "414                    NaN  University of Wyoming requires either the SAT ...   \n",
       "415                    NaN  UTEP requires either the SAT or ACT. It does n...   \n",
       "\n",
       "    no_of_applicants acceptrate        sat    act  \n",
       "0              47452       4.3%  1440-1570  32-35  \n",
       "1              42749       4.7%  1460-1580  33-35  \n",
       "2              35370       5.5%  1440-1570  32-35  \n",
       "3              40203       5.5%  1450-1560  33-35  \n",
       "4              36844       6.1%  1460-1570  33-35  \n",
       "..               ...        ...        ...    ...  \n",
       "411            10680      79.8%   950-1130  17-22  \n",
       "412             4434      86.4%   990-1180  19-25  \n",
       "413            15371      88.1%  1050-1270  21-29  \n",
       "414             5348      96.0%  1060-1280  22-28  \n",
       "415             7157      99.9%   820-1050  17-23  \n",
       "\n",
       "[416 rows x 8 columns]"
      ]
     },
     "execution_count": 185,
     "metadata": {},
     "output_type": "execute_result"
    }
   ],
   "source": [
    "dfb"
   ]
  },
  {
   "cell_type": "markdown",
   "metadata": {},
   "source": [
    "## Visualize the Data\n",
    "\n",
    "There's not a magic bullet recommendation for the right number of plots to understand a given dataset, but visualizing your data is *always* a good idea. Not only does it allow you to quickly convey your findings (even if you have a non-technical audience), it will often reveal trends in your data that escaped you when you were looking only at numbers. It is important to not only create visualizations, but to **interpret your visualizations** as well.\n",
    "\n",
    "**Every plot should**:\n",
    "- Have a title\n",
    "- Have axis labels\n",
    "- Have appropriate tick labels\n",
    "- Text is legible in a plot\n",
    "- Plots demonstrate meaningful and valid relationships\n",
    "- Have an interpretation to aid understanding\n",
    "\n",
    "Here is an example of what your plots should look like following the above guidelines. Note that while the content of this example is unrelated, the principles of visualization hold:\n",
    "\n",
    "![](https://snag.gy/hCBR1U.jpg)\n",
    "*Interpretation: The above image shows that as we increase our spending on advertising, our sales numbers also tend to increase. There is a positive correlation between advertising spending and sales.*\n",
    "\n",
    "---\n",
    "\n",
    "Here are some prompts to get you started with visualizations. Feel free to add additional visualizations as you see fit:\n",
    "1. Use Seaborn's heatmap with pandas `.corr()` to visualize correlations between all numeric features. (DONE)\n",
    "    - Heatmaps are generally not appropriate for presentations, and should often be excluded from reports as they can be visually overwhelming. **However**, they can be extremely useful in identify relationships of potential interest (as well as identifying potential collinearity before modeling).\n",
    "    - Please take time to format your output, adding a title. Look through some of the additional arguments and options. (Axis labels aren't really necessary, as long as the title is informative).\n",
    "2. Visualize distributions using histograms. If you have a lot, consider writing a custom function and use subplots. (DONE)\n",
    "    - *OPTIONAL*: Summarize the underlying distributions of your features (in words & statistics)\n",
    "         - Be thorough in your verbal description of these distributions.\n",
    "         - Be sure to back up these summaries with statistics.\n",
    "         - We generally assume that data we sample from a population will be normally distributed. Do we observe this trend? Explain your answers for each distribution and how you think this will affect estimates made from these data.\n",
    "3. Plot and interpret boxplots. (DONE)\n",
    "    - Boxplots demonstrate central tendency and spread in variables. In a certain sense, these are somewhat redundant with histograms, but you may be better able to identify clear outliers or differences in IQR, etc.\n",
    "    - Multiple values can be plotted to a single boxplot as long as they are of the same relative scale (meaning they have similar min/max values).\n",
    "    - Each boxplot should:\n",
    "        - Only include variables of a similar scale\n",
    "        - Have clear labels for each variable\n",
    "        - Have appropriate titles and labels\n",
    "4. Plot and interpret scatter plots to view relationships between features. Feel free to write a custom function, and subplot if you'd like. Functions save both time and space. (DONE)\n",
    "    - Your plots should have: \n",
    "        - Two clearly labeled axes\n",
    "        - A proper title\n",
    "        - Colors and symbols that are clear and unmistakable\n",
    "5. Additional plots of your choosing. (DONE)\n",
    "    - Are there any additional trends or relationships you haven't explored? Was there something interesting you saw that you'd like to dive further into? It's likely that there are a few more plots you might want to generate to support your narrative and recommendations that you are building toward. **As always, make sure you're interpreting your plots as you go**."
   ]
  },
  {
   "cell_type": "markdown",
   "metadata": {},
   "source": [
    "> <font size = 3 color = \"crimson\"> Not all the visualizations required are addressed below. There are also no display and interpretation of the visualizations.</font>"
   ]
  },
  {
   "cell_type": "code",
   "execution_count": 138,
   "metadata": {},
   "outputs": [
    {
     "data": {
      "image/png": "[encoded data removed]",
      "text/plain": [
       "<Figure size 432x288 with 1 Axes>"
      ]
     },
     "metadata": {
      "needs_background": "light"
     },
     "output_type": "display_data"
    }
   ],
   "source": [
    "# Code\n",
    "#trend graduation rates and retention rate\n",
    "dfmean1 = pd.read_csv('dfmean1.csv')\n",
    "dfmean1\n",
    "x1 = dfmean1['years']\n",
    "y1 = dfmean1['freshman_rentention_rates']\n",
    "plt.plot(x1, y1, label = \"Freshman Retention Rates\")\n",
    "\n",
    "x2 = dfmean1['years']\n",
    "y2 = dfmean1['gradution_rates_4_years']\n",
    "plt.plot(x2, y2, label = \"Graduation Rates 4 Years\")\n",
    "\n",
    "plt.xlabel('years')\n",
    "plt.ylabel('mean')\n",
    "plt.title('Trends')\n",
    "plt.legend()\n",
    "plt.show()"
   ]
  },
  {
   "cell_type": "markdown",
   "metadata": {},
   "source": [
    "<font size = 3 color = \"Navy\"> Findings:</font>\n",
    "\n",
    "* There is a steep drop in freshman retention rate after 2019(when the exmeption was implemented). \n",
    "\n",
    "* There is steep increase in graduation rate after 2019(when the exmeption was implemented)."
   ]
  },
  {
   "cell_type": "code",
   "execution_count": 174,
   "metadata": {},
   "outputs": [
    {
     "data": {
      "text/plain": [
       "array([[<AxesSubplot:title={'center':'freshmanretentionrate'}>,\n",
       "        <AxesSubplot:title={'center':'graduationrate4years'}>],\n",
       "       [<AxesSubplot:title={'center':'sataverage'}>, <AxesSubplot:>]],\n",
       "      dtype=object)"
      ]
     },
     "execution_count": 174,
     "metadata": {},
     "output_type": "execute_result"
    },
    {
     "data": {
      "image/png": "[encoded data removed]",
      "text/plain": [
       "<Figure size 432x288 with 4 Axes>"
      ]
     },
     "metadata": {
      "needs_background": "light"
     },
     "output_type": "display_data"
    }
   ],
   "source": [
    "df2018.hist()"
   ]
  },
  {
   "cell_type": "markdown",
   "metadata": {},
   "source": [
    "<font size = 3 color = \"Navy\"> Findings:</font>\n",
    "\n",
    "* histogram shows that freshman retention rate and sat average follows a reletively normal distribution, which means that these can be good represtation of the population\n",
    "* graduation rate 4 years is however a little left skewed. This suggest that they are many big outliers. Outliner may be remove for the sample to follow a more normal distribution, but as college data stands, these outliners may also bring important insights"
   ]
  },
  {
   "cell_type": "code",
   "execution_count": 173,
   "metadata": {},
   "outputs": [
    {
     "data": {
      "image/png": "[encoded data removed]",
      "text/plain": [
       "<Figure size 432x288 with 1 Axes>"
      ]
     },
     "metadata": {
      "needs_background": "light"
     },
     "output_type": "display_data"
    }
   ],
   "source": [
    "#box plot\n",
    "\n",
    "df2018.boxplot(column=['sataverage'])  \n",
    "\n",
    "plt.xlabel('SAT Average')\n",
    "plt.ylabel('Score')\n",
    "plt.title('SAT Average')\n",
    "plt.show()"
   ]
  },
  {
   "cell_type": "markdown",
   "metadata": {},
   "source": [
    "<font size = 3 color = \"Navy\"> Findings:</font>\n",
    "\n",
    "* Boxplot for SAT average shows that the upper quartile sat scores is sitting around 1200, lower quartile sitting around 800, and mean around 1100.\n",
    "* A lot of outliers can be seen beyond the 3rd quartile, and may be removed to reduce standard deviation.\n",
    "* However, as the college data stands, outliner sat scores can paint a significant picture about the national test performance, and hence, should not be remove"
   ]
  },
  {
   "cell_type": "code",
   "execution_count": 140,
   "metadata": {},
   "outputs": [
    {
     "data": {
      "image/png": "[encoded data removed]",
      "text/plain": [
       "<Figure size 432x288 with 1 Axes>"
      ]
     },
     "metadata": {
      "needs_background": "light"
     },
     "output_type": "display_data"
    }
   ],
   "source": [
    "#correlation between graduation rate and SAT\n",
    "x3 = df2020_nonan['graduationrate4years']\n",
    "y3 = df2020_nonan['sataverage']\n",
    "plt.scatter(x3, y3)\n",
    "\n",
    "plt.xlabel('Average SAT')\n",
    "plt.ylabel('Graduation rate 4 years')\n",
    "plt.title('Correlation of Graduation rate and SAT')\n",
    "plt.show()"
   ]
  },
  {
   "cell_type": "code",
   "execution_count": 141,
   "metadata": {},
   "outputs": [
    {
     "data": {
      "image/png": "[encoded data removed]",
      "text/plain": [
       "<Figure size 432x288 with 1 Axes>"
      ]
     },
     "metadata": {
      "needs_background": "light"
     },
     "output_type": "display_data"
    }
   ],
   "source": [
    "#correlation between retention rate and sat\n",
    "x4 = df2020_nonan['freshmanretentionrate']\n",
    "y4 = df2020_nonan['sataverage']\n",
    "plt.scatter(x4, y4)\n",
    "\n",
    "plt.xlabel('Average SAT')\n",
    "plt.ylabel('Freshman Retention Rate')\n",
    "plt.title('Correlation of Freshman Retention Rate and SAT')\n",
    "plt.show()"
   ]
  },
  {
   "cell_type": "markdown",
   "metadata": {},
   "source": [
    "<font size = 3 color = \"Navy\"> Findings:</font>\n",
    "\n",
    "* SAT has a relatively strong correlation with both freshman retention rate and graduation rate"
   ]
  },
  {
   "cell_type": "code",
   "execution_count": 137,
   "metadata": {},
   "outputs": [
    {
     "data": {
      "image/png": "[encoded data removed]",
      "text/plain": [
       "<Figure size 432x288 with 2 Axes>"
      ]
     },
     "metadata": {
      "needs_background": "light"
     },
     "output_type": "display_data"
    }
   ],
   "source": [
    "#heatmap\n",
    "gpa_sat_corr = gpa_sat_merged_nonan.corr()\n",
    "x = sns.heatmap(gpa_sat_corr, annot = True, vmin=0, vmax=1)\n",
    "plt.show()"
   ]
  },
  {
   "cell_type": "markdown",
   "metadata": {},
   "source": [
    "<font size = 3 color = \"Navy\"> Findings:</font>\n",
    "\n",
    "* both SAT and high school GPA has a strong correlation with college gpa\n",
    "* High school GPA has a stronger correlation (0.83) with college gpa then SAT (0.78) with college gpa"
   ]
  },
  {
   "cell_type": "code",
   "execution_count": null,
   "metadata": {},
   "outputs": [],
   "source": [
    "<font size = 3 color = \"Navy\"> Findings:</font>\n",
    "\n",
    "* Admission rate of minorities increased after the exemption of test results. This may suggest the implemention benefits minorities"
   ]
  },
  {
   "cell_type": "markdown",
   "metadata": {},
   "source": [
    "## Conclusions and Recommendations"
   ]
  },
  {
   "cell_type": "markdown",
   "metadata": {},
   "source": [
    "Based on your exploration of the data, what are you key takeaways and recommendations? Make sure to answer your question of interest or address your problem statement here."
   ]
  },
  {
   "cell_type": "markdown",
   "metadata": {},
   "source": [
    "<font size = 3 color = \"Navy\"> COLLECTIVE FINDINGS:</font>\n",
    "\n",
    "* Admission rate of minorities increased after the exemption of test results. This may suggest the implemention benefits minorities\n",
    "* High school gpa has a stronger correlation with College GPA then SAT with College GPA. This shows that High school GPA may be a better guage of students' perfermance in college.\n",
    "* SAT has a medium correlation with graduation rate and retention rate. This shows that SAT is a good indicator of both of these viables\n",
    "* There is a significant drop in graduation rate after the test exemption was implemented (2018 -19). This may suggest that the exemption of test results is detrimental to graduation rate of college students. One explanantion may be that sat is not a good guage for which students' resilience in school, and non-resilient are admitted into the college admist the exemption of test results.\n",
    "* There is a significant increase in freshman retentionrate after the test exemption was implemented (2018-19). This may suggest that the exemption of test results is beneficial to student graduating. This is, however, hard to affirm as more data on graduation rate after the implementation are still not avaliable yet</font>\n",
    "\n",
    "Therefore, with the above finding we can conclude that SAT is not necessarily the best guage for student's fit in a college, and other metrics and guages can be considered.\n",
    "\n",
    "The Recommandations are therefore:\n",
    "\n",
    "* To allow for mandating the test exemption as findings suggest the exemption of SAT to be mostly beneficial to students, minorities, and colleges\n",
    "\n",
    "* More conservative colleges can consider test exemption for short-to-mid term (2-5 years) admist the pandemic, as findings suggest the exemption of SAT to be mostly beneficial to students, minorities, and colleges.\n",
    "\n",
    "* Allowing the SAT to be exempted for the short-to-mid term without mandating it immediately also allows for more data (for e.g. graduation year of exempted students) to be gather for evaluation of the implementation\n",
    "\n",
    "\n"
   ]
  },
  {
   "cell_type": "markdown",
   "metadata": {},
   "source": [
    "Limitations\n",
    "\n",
    "* Insufficient post-exemption data (For e.g. graduation rate of cohort 2021/2022 - Confidence of recommendation may improve or amend post-exemption data becomes more available\n",
    "* Data from pre-2013 are not included - Accuracy of analysis may improve with the inclusive of more years of data\n",
    "* Correlation of HSGPS/SAT vs College GPA are based on sample size of 30 - Accuracy of finding may improve with the inclusive of a larger sample size"
   ]
  },
  {
   "cell_type": "markdown",
   "metadata": {},
   "source": [
    "Don't forget to create your README!\n",
    "\n",
    "**To-Do:** *If you combine your problem statement, data dictionary, brief summary of your analysis, and conclusions/recommendations, you have an amazing README.md file that quickly aligns your audience to the contents of your project.* Don't forget to cite your data sources!"
   ]
  }
 ],
 "metadata": {
  "anaconda-cloud": {},
  "kernelspec": {
   "display_name": "Python 3 (ipykernel)",
   "language": "python",
   "name": "python3"
  },
  "language_info": {
   "codemirror_mode": {
    "name": "ipython",
    "version": 3
   },
   "file_extension": ".py",
   "mimetype": "text/x-python",
   "name": "python",
   "nbconvert_exporter": "python",
   "pygments_lexer": "ipython3",
   "version": "3.9.7"
  }
 },
 "nbformat": 4,
 "nbformat_minor": 4
}
